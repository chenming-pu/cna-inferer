{
 "cells": [
  {
   "cell_type": "code",
   "execution_count": 1,
   "id": "92cb3411",
   "metadata": {},
   "outputs": [],
   "source": [
    "# Standard library\n",
    "import itertools\n",
    "from collections import defaultdict\n",
    "\n",
    "# Third-party libraries\n",
    "import numpy as np\n",
    "import pandas as pd\n",
    "import scanpy as sc\n",
    "\n",
    "# Local package: cna_inferer\n",
    "from cna_inferer.main import process_and_call_cnas\n"
   ]
  },
  {
   "cell_type": "code",
   "execution_count": 2,
   "id": "45f577da",
   "metadata": {},
   "outputs": [
    {
     "name": "stderr",
     "output_type": "stream",
     "text": [
      "c:\\Users\\12039\\anaconda3\\Lib\\site-packages\\anndata\\_core\\anndata.py:1758: UserWarning: Variable names are not unique. To make them unique, call `.var_names_make_unique`.\n",
      "  utils.warn_names_duplicates(\"var\")\n",
      "INFO:root:Extracted GTF attributes: ['gene_id', 'gene_version', 'gene_name', 'gene_source', 'gene_biotype', 'transcript_id', 'transcript_version', 'transcript_name', 'transcript_source', 'transcript_biotype', 'tag', 'ccds_id', 'transcript_support_level', 'exon_number', 'exon_id', 'exon_version', 'protein_id', 'protein_version']\n",
      "c:\\Users\\12039\\anaconda3\\Lib\\site-packages\\scanpy\\preprocessing\\_simple.py:287: ImplicitModificationWarning: Trying to modify attribute `.var` of view, initializing view as actual.\n",
      "  adata.var[\"n_cells\"] = number\n"
     ]
    },
    {
     "name": "stdout",
     "output_type": "stream",
     "text": [
      "✅ Processed 0 cells...\n",
      "✅ Processed 500 cells...\n",
      "✅ Processed 1000 cells...\n",
      "✅ Processed 1500 cells...\n",
      "✅ Processed 2000 cells...\n",
      "✅ Processed 2500 cells...\n",
      "✅ Processed 3000 cells...\n",
      "✅ Processed 3500 cells...\n",
      "✅ Processed 4000 cells...\n",
      "📊 Total CNA events in GSM3814888_day8_rep1_filtered_gene_bc_matrices_h5.h5: 1229\n"
     ]
    },
    {
     "name": "stderr",
     "output_type": "stream",
     "text": [
      "c:\\Users\\12039\\anaconda3\\Lib\\site-packages\\anndata\\_core\\anndata.py:1758: UserWarning: Variable names are not unique. To make them unique, call `.var_names_make_unique`.\n",
      "  utils.warn_names_duplicates(\"var\")\n",
      "INFO:root:Extracted GTF attributes: ['gene_id', 'gene_version', 'gene_name', 'gene_source', 'gene_biotype', 'transcript_id', 'transcript_version', 'transcript_name', 'transcript_source', 'transcript_biotype', 'tag', 'ccds_id', 'transcript_support_level', 'exon_number', 'exon_id', 'exon_version', 'protein_id', 'protein_version']\n",
      "c:\\Users\\12039\\anaconda3\\Lib\\site-packages\\scanpy\\preprocessing\\_simple.py:287: ImplicitModificationWarning: Trying to modify attribute `.var` of view, initializing view as actual.\n",
      "  adata.var[\"n_cells\"] = number\n"
     ]
    },
    {
     "name": "stdout",
     "output_type": "stream",
     "text": [
      "✅ Processed 0 cells...\n",
      "✅ Processed 500 cells...\n",
      "✅ Processed 1000 cells...\n",
      "✅ Processed 1500 cells...\n",
      "✅ Processed 2000 cells...\n",
      "📊 Total CNA events in GSM3814889_day8_rep2_filtered_gene_bc_matrices_h5.h5: 18\n"
     ]
    },
    {
     "name": "stderr",
     "output_type": "stream",
     "text": [
      "c:\\Users\\12039\\anaconda3\\Lib\\site-packages\\anndata\\_core\\anndata.py:1758: UserWarning: Variable names are not unique. To make them unique, call `.var_names_make_unique`.\n",
      "  utils.warn_names_duplicates(\"var\")\n",
      "INFO:root:Extracted GTF attributes: ['gene_id', 'gene_version', 'gene_name', 'gene_source', 'gene_biotype', 'transcript_id', 'transcript_version', 'transcript_name', 'transcript_source', 'transcript_biotype', 'tag', 'ccds_id', 'transcript_support_level', 'exon_number', 'exon_id', 'exon_version', 'protein_id', 'protein_version']\n",
      "c:\\Users\\12039\\anaconda3\\Lib\\site-packages\\scanpy\\preprocessing\\_simple.py:287: ImplicitModificationWarning: Trying to modify attribute `.var` of view, initializing view as actual.\n",
      "  adata.var[\"n_cells\"] = number\n"
     ]
    },
    {
     "name": "stdout",
     "output_type": "stream",
     "text": [
      "✅ Processed 0 cells...\n",
      "✅ Processed 500 cells...\n",
      "✅ Processed 1000 cells...\n",
      "✅ Processed 1500 cells...\n",
      "✅ Processed 2000 cells...\n",
      "✅ Processed 2500 cells...\n",
      "✅ Processed 3000 cells...\n",
      "✅ Processed 3500 cells...\n",
      "✅ Processed 4000 cells...\n",
      "✅ Processed 4500 cells...\n",
      "✅ Processed 5000 cells...\n",
      "✅ Processed 5500 cells...\n",
      "✅ Processed 6000 cells...\n",
      "✅ Processed 6500 cells...\n",
      "✅ Processed 7000 cells...\n",
      "✅ Processed 7500 cells...\n",
      "📊 Total CNA events in GSM3814894_rc11_day8_filtered_gene_bc_matrices_h5.h5: 287\n"
     ]
    }
   ],
   "source": [
    "adata_r1 = process_and_call_cnas(\"GSM3814888_day8_rep1_filtered_gene_bc_matrices_h5.h5\")\n",
    "adata_r2 = process_and_call_cnas(\"GSM3814889_day8_rep2_filtered_gene_bc_matrices_h5.h5\")\n",
    "adata_rc11 = process_and_call_cnas(\"GSM3814894_rc11_day8_filtered_gene_bc_matrices_h5.h5\")"
   ]
  },
  {
   "cell_type": "code",
   "execution_count": 3,
   "id": "938e86ff",
   "metadata": {},
   "outputs": [
    {
     "name": "stdout",
     "output_type": "stream",
     "text": [
      "Union of all genes (1500):\n",
      "['ABCC4', 'ABHD13', 'ABHD4', 'ABTB2', 'AC000403.4', 'AC001226.7', 'AC015691.13', 'AC090587.5', 'ACCS', 'ACIN1', 'ACP2', 'ACTN1', 'ACTR10', 'ADAM8', 'ADCY4', 'ADM', 'ADPRHL1', 'ADRBK1', 'AGBL2', 'AHNAK', 'AIP', 'AJUBA', 'AKAP11', 'AKAP5', 'AKAP6', 'AKIP1', 'AL161668.5', 'AL356585.2', 'ALDH3B1', 'ALG11', 'ALG5', 'ALKBH3', 'ALOX5AP', 'AMBRA1', 'AMER2', 'AMPD3', 'ANAPC15', 'ANG', 'ANKRD10', 'ANKRD13D', 'ANO1', 'ANO1-AS2', 'ANO5', 'AP000438.2', 'AP000442.1', 'AP000442.4', 'AP000487.5', 'AP000640.10', 'AP000769.7', 'AP001257.1', 'AP001258.4', 'AP001462.6', 'AP003068.23', 'AP003068.9', 'AP003419.16', 'AP003774.6', 'AP006285.6', 'AP006621.5', 'AP1G2', 'AP2A2', 'AP4S1', 'AP5B1', 'AP5M1', 'APBB1', 'APEX1', 'API5', 'APIP', 'APLNR', 'ARAP1', 'ARF6', 'ARFGAP2', 'ARFIP2', 'ARG2', 'ARGLU1', 'ARHGAP1', 'ARHGAP5', 'ARHGAP5-AS1', 'ARHGEF17', 'ARHGEF40', 'ARHGEF7', 'ARID4A', 'ARL11', 'ARL14EP', 'ARL2', 'ARNTL', 'ART5', 'ASCL2', 'ASRGL1', 'ATG13', 'ATG14', 'ATG16L2', 'ATG2A', 'ATHL1', 'ATL1', 'ATL3', 'ATP11A', 'ATP5EP2', 'ATP5S', 'ATP6V1D', 'ATP7B', 'ATP8A2', 'B3GAT3', 'B3GLCT', 'B4GALNT4', 'B4GAT1', 'BAD', 'BANF1', 'BATF2', 'BAZ1A', 'BBOX1-AS1', 'BBS1', 'BCL2L2', 'BCL2L2-PABPN1', 'BDNF', 'BDNF-AS', 'BEST1', 'BET1L', 'BIVM', 'BMP4', 'BNIP3', 'BORA', 'BRCA2', 'BRMS1', 'BRMS1L', 'BRSK2', 'BSCL2', 'BTBD10', 'C10orf91', 'C11orf24', 'C11orf31', 'C11orf49', 'C11orf58', 'C11orf68', 'C11orf72', 'C11orf74', 'C11orf80', 'C11orf84', 'C11orf91', 'C11orf95', 'C11orf96', 'C11orf98', 'C14orf119', 'C14orf166', 'C14orf28', 'C14orf37', 'C14orf39', 'C14orf93', 'C1QTNF4', 'C1QTNF9B-AS1', 'C2CD3', 'CAB39L', 'CALCA', 'CALY', 'CAPN1', 'CAPRIN1', 'CARKD', 'CARS', 'CARS2', 'CAT', 'CATSPER1', 'CBLN3', 'CCDC122', 'CCDC168', 'CCDC169', 'CCDC175', 'CCDC34', 'CCDC70', 'CCDC73', 'CCDC85B', 'CCDC86', 'CCDC87', 'CCDC88B', 'CCKBR', 'CCNA1', 'CCNB1IP1', 'CCND1', 'CCS', 'CD151', 'CD248', 'CD44', 'CD59', 'CD6', 'CD81', 'CD81-AS1', 'CD82', 'CDADC1', 'CDC16', 'CDC42BPG', 'CDC42EP2', 'CDCA5', 'CDH24', 'CDK2AP2', 'CDK8', 'CDKL1', 'CDKN1C', 'CDKN3', 'CDX2', 'CELF1', 'CEND1', 'CENPJ', 'CFAP46', 'CFL1', 'CFL2', 'CGRRF1', 'CH17-302M23.1', 'CHAMP1', 'CHD8', 'CHFR', 'CHID1', 'CHKA', 'CHMP4A', 'CHRNA10', 'CHST1', 'CHURC1', 'CIDEB', 'CKAP2', 'CKAP5', 'CLCF1', 'CLDN10', 'CLEC14A', 'CLN5', 'CLP1', 'CLPB', 'CLYBL', 'CMB9-22P13.1', 'CMTM5', 'CNIH1', 'CNIH2', 'CNTF', 'COA4', 'COCH', 'COG3', 'COG6', 'COL4A1', 'COL4A2', 'COMMD6', 'COMMD9', 'COPB1', 'CORO1B', 'COX8A', 'CPB2', 'CPB2-AS1', 'CPSF7', 'CPT1A', 'CRACR2B', 'CREB3L1', 'CRY2', 'CRYL1', 'CSNK1A1L', 'CSNK2A3', 'CSRP3', 'CST6', 'CSTF3', 'CSTF3-AS1', 'CTAGE5', 'CTC-1337H24.3', 'CTC-1337H24.4', 'CTD-2014B16.3', 'CTD-2140B24.6', 'CTD-2184C24.2', 'CTD-2213F21.2', 'CTD-2292M16.8', 'CTD-2298J14.2', 'CTD-2302E22.4', 'CTD-2302E22.6', 'CTD-2325P2.4', 'CTD-2371O3.2', 'CTD-2371O3.3', 'CTD-2503I6.1', 'CTD-2516F10.2', 'CTD-2555O16.2', 'CTD-2555O16.4', 'CTD-2568P8.1', 'CTD-2588E21.1', 'CTD-2655K5.1', 'CTD-3074O7.5', 'CTNND1', 'CTR9', 'CTSD', 'CTSG', 'CTSW', 'CTTN', 'CUL4A', 'CYB561A3', 'CYB5R2', 'CYP2E1', 'CYP2R1', 'CYSLTR2', 'DAAM1', 'DACH1', 'DACT1', 'DAD1', 'DAGLA', 'DCAF11', 'DCDC1', 'DCHS1', 'DCLK1', 'DCUN1D2', 'DDB1', 'DDB2', 'DDHD1', 'DEAF1', 'DENND5A', 'DEPDC7', 'DGKH', 'DGKZ', 'DHCR7', 'DHRS1', 'DHRS12', 'DHRS2', 'DHRS4', 'DHRS4-AS1', 'DHRS4L2', 'DHRS7', 'DIAPH3', 'DIS3', 'DKFZp779M0652', 'DKK3', 'DLEU1', 'DLEU2', 'DLEU7', 'DLGAP5', 'DNAAF2', 'DNAJB13', 'DNAJC15', 'DNAJC24', 'DNAJC3', 'DNAJC3-AS1', 'DNAJC4', 'DNHD1', 'DOCK9', 'DOCK9-AS2', 'DPF2', 'DPP3', 'DPYSL4', 'DRAP1', 'DRD4', 'DTD2', 'DTX4', 'DUSP8', 'DZIP1', 'E2F8', 'EAPP', 'EBPL', 'ECHS1', 'EDNRB', 'EEF1G', 'EFEMP2', 'EFNB2', 'EFS', 'EGLN3', 'EHBP1L1', 'EHD1', 'EIF1AD', 'EIF2S1', 'EIF3F', 'EIF3M', 'EIF4G2', 'ELF1', 'ELP4', 'EMC9', 'EML3', 'ENOX1', 'EPS8L2', 'EPSTI1', 'ERCC5', 'ERO1A', 'ESD', 'ESR2', 'ESRRA', 'EXOC5', 'EXOSC8', 'EXT2', 'F10', 'F7', 'FADD', 'FADS1', 'FADS2', 'FADS3', 'FAM111A', 'FAM111B', 'FAM124A', 'FAM155A', 'FAM160A2', 'FAM168A', 'FAM177A1', 'FAM179B', 'FAM71D', 'FAM86C1', 'FAM89B', 'FAM99A', 'FANCF', 'FANCM', 'FAR1', 'FARP1', 'FARP1-AS1', 'FAU', 'FBXL3', 'FBXO3', 'FBXO33', 'FBXO34', 'FCHSD2', 'FEN1', 'FERMT2', 'FERMT3', 'FGF14', 'FGF14-AS2', 'FGF19', 'FGF9', 'FIBIN', 'FIBP', 'FITM1', 'FJX1', 'FKBP2', 'FKBP3', 'FLJ22447', 'FLT1', 'FLT3', 'FNBP4', 'FNDC3A', 'FNTB', 'FOLR1', 'FOSL1', 'FOXA1', 'FOXO1', 'FREM2', 'FRMD6', 'FRMD6-AS1', 'FRMD6-AS2', 'FRMD8', 'FRY', 'FRY-AS1', 'FTH1', 'FUOM', 'FUT8', 'FUT8-AS1', 'G2E3', 'GAL', 'GAL3ST3', 'GALNT18', 'GANAB', 'GAS2', 'GAS6', 'GAS6-AS1', 'GAS6-AS2', 'GCH1', 'GEMIN2', 'GGACT', 'GJA3', 'GJB2', 'GLYATL1', 'GLYATL2', 'GMFB', 'GMPR2', 'GNG2', 'GNG3', 'GNPNAT1', 'GOLGA3', 'GPALPP1', 'GPC5', 'GPC6', 'GPHA2', 'GPHN', 'GPR135', 'GPR137', 'GPR137C', 'GPR180', 'GPR183', 'GRTP1', 'GRTP1-AS1', 'GSTP1', 'GTF2F2', 'GTF2H1', 'GTF3A', 'GYLTL1B', 'HARBI1', 'HAUS4', 'HBE1', 'HBG2', 'HEATR5A', 'HECTD1', 'HIF1A', 'HIF1A-AS1', 'HIPK3', 'HMGB1', 'HNRNPA1L2', 'HNRNPC', 'HNRNPUL2', 'HOMEZ', 'HPS5', 'HPX', 'HRAS', 'HRASLS2', 'HS6ST3', 'HSD17B12', 'HSPA2', 'HSPH1', 'HTATIP2', 'HTR2A', 'IFITM1', 'IFITM10', 'IFITM2', 'IFITM3', 'IFT88', 'IGF2', 'IGF2-AS', 'IGHMBP2', 'IL17D', 'IL18BP', 'ILK', 'IMMP1L', 'INCENP', 'ING1', 'INPP5A', 'INPPL1', 'INSC', 'INTS5', 'INTS6', 'INTS6-AS1', 'IPO4', 'IPO5', 'IPO7', 'IRF7', 'IRF9', 'IRS2', 'ITGBL1', 'ITM2B', 'JAKMIP3', 'JKAMP', 'JPH4', 'KAT5', 'KATNAL1', 'KBTBD4', 'KBTBD6', 'KBTBD7', 'KCNA4', 'KCNE3', 'KCNH5', 'KCNK7', 'KCNQ1', 'KCNQ1-AS1', 'KCNQ1OT1', 'KCNRG', 'KCTD12', 'KDELC1', 'KDM2A', 'KHNYN', 'KIAA0226L', 'KIAA0391', 'KIAA0586', 'KIAA1549L', 'KIF18A', 'KL', 'KLC2', 'KLF12', 'KLF5', 'KLHDC1', 'KLHDC2', 'KLHL1', 'KLHL28', 'KMT5B', 'KNDC1', 'KPNA3', 'KRTAP5-AS1', 'KTN1', 'KTN1-AS1', 'L2HGDH', 'L3HYPDH', 'LACC1', 'LAMP1', 'LAMTOR1', 'LATS2', 'LATS2-AS1', 'LBHD1', 'LCP1', 'LDHA', 'LDHAL6A', 'LDHC', 'LDLRAD3', 'LECT1', 'LGALS3', 'LGR4', 'LHFP', 'LIG4', 'LIN7C', 'LINC00282', 'LINC00294', 'LINC00327', 'LINC00330', 'LINC00332', 'LINC00346', 'LINC00354', 'LINC00412', 'LINC00426', 'LINC00431', 'LINC00434', 'LINC00441', 'LINC00443', 'LINC00449', 'LINC00460', 'LINC00462', 'LINC00519', 'LINC00520', 'LINC00539', 'LINC00540', 'LINC00543', 'LINC00545', 'LINC00551', 'LINC00560', 'LINC00562', 'LINC00565', 'LINC00571', 'LINC00598', 'LINC00621', 'LINC00639', 'LINC00640', 'LINC00643', 'LINC00648', 'LINC00958', 'LINC01001', 'LINC01048', 'LINC01054', 'LINC01068', 'LINC01198', 'LINC01537', 'LINC01551', 'LINC01588', 'LMNTD2', 'LMO1', 'LMO2', 'LMO7', 'LMO7-AS1', 'LNX2', 'LPAR6', 'LPXN', 'LRCH1', 'LRFN4', 'LRFN5', 'LRP10', 'LRP4', 'LRP4-AS1', 'LRP5', 'LRR1', 'LRRC10B', 'LRRC16B', 'LRRC27', 'LRRC4C', 'LRRC55', 'LRRC56', 'LRRC63', 'LRRC9', 'LRRN4CL', 'LRTOMT', 'LSP1', 'LTB4R', 'LTB4R2', 'LTBP3', 'LUZP2', 'LYVE1', 'MAB21L1', 'MACROD1', 'MADD', 'MALAT1', 'MAP3K11', 'MAP4K2', 'MAP4K5', 'MAPK1IP1L', 'MAPK8IP1', 'MARK2', 'MAX', 'MBIP', 'MBNL2', 'MCF2L', 'MCF2L-AS1', 'MDGA2', 'MDK', 'MDP1', 'MED19', 'MED4', 'MED4-AS1', 'MEDAG', 'MEN1', 'METTL12', 'METTL15', 'METTL17', 'METTL3', 'MGAT2', 'MICAL2', 'MICU2', 'MIPEP', 'MIPOL1', 'MIR194-2HG', 'MIR210HG', 'MIS18BP1', 'MMP14', 'MNAT1', 'MOB2', 'MPHOSPH8', 'MPP5', 'MPPED2', 'MRGPRF', 'MRPL11', 'MRPL16', 'MRPL17', 'MRPL21', 'MRPL23', 'MRPL48', 'MRPL49', 'MRPL52', 'MRPL57', 'MRPS31', 'MRVI1', 'MRVI1-AS1', 'MS4A12', 'MS4A15', 'MS4A2', 'MS4A4A', 'MS4A6A', 'MS4A7', 'MTA2', 'MTCH2', 'MTG1', 'MTHFD1', 'MTIF3', 'MTL5', 'MTMR6', 'MTRF1', 'MTRNR2L8', 'MTUS2', 'MUC5B', 'MUS81', 'MYCBP2', 'MYCBP2-AS1', 'MYEOV', 'MYH7', 'MYO16', 'MYRF', 'MZT1', 'N4BP2L1', 'N4BP2L2', 'N6AMT2', 'NAA16', 'NAA30', 'NAA40', 'NAALADL1', 'NADSYN1', 'NALCN', 'NAP1L4', 'NAT10', 'NAV2', 'NAV2-AS2', 'NAV2-AS3', 'NBEA', 'NCR3LG1', 'NDFIP2', 'NDRG2', 'NDUFS3', 'NDUFS8', 'NDUFV1', 'NEAT1', 'NEDD8', 'NEK3', 'NEK5', 'NEMF', 'NFATC4', 'NFKBIA', 'NGDN', 'NHLRC3', 'NID2', 'NIN', 'NKX6-2', 'NLRP14', 'NOP9', 'NOVA1', 'NOVA1-AS1', 'NPAS3', 'NPAS4', 'NR1H3', 'NRIP3', 'NRL', 'NRXN2', 'NUBPL', 'NUCB2', 'NUDT15', 'NUDT22', 'NUDT8', 'NUFIP1', 'NUMA1', 'NUP160', 'NUP58', 'NUP98', 'NXF1', 'NYNRIN', 'OLFML1', 'OR2D2', 'OR51E2', 'OR52N1', 'OR6A2', 'ORAOV1', 'OSBP', 'OSBPL5', 'OSGEP', 'OTUB1', 'OVOL1-AS1', 'OXA1L', 'P2RY2', 'P2RY6', 'P4HA3', 'PAAF1', 'PABPC3', 'PABPN1', 'PACS1', 'PACSIN3', 'PAMR1', 'PAN3', 'PAN3-AS1', 'PAOX', 'PARP2', 'PARP4', 'PARVA', 'PATL1', 'PAX6', 'PC', 'PCCA', 'PCDH17', 'PCDH8', 'PCDH9', 'PCID2', 'PCK2', 'PCNXL3', 'PCNXL4', 'PDDC1', 'PDE2A', 'PDE3B', 'PDHX', 'PDS5B', 'PELI2', 'PELI3', 'PEX16', 'PGA5', 'PGAP2', 'PGM2L1', 'PHF11', 'PHF21A', 'PHLDA2', 'PHOX2A', 'PHRF1', 'PIBF1', 'PIDD1', 'PIGH', 'PIK3C2A', 'PITPNM1', 'PKP3', 'PLA2G16', 'PLCB3', 'PLEK2', 'PLEKHA7', 'PLEKHB1', 'PLEKHG3', 'PLEKHH1', 'PNN', 'PNP', 'PNPLA2', 'POLA2', 'POLD4', 'POLE2', 'POLR1D', 'POLR2G', 'POLR2L', 'POMP', 'POSTN', 'POU4F1', 'PPFIA1', 'PPFIBP2', 'PPM1A', 'PPME1', 'PPP1CA', 'PPP1R14B', 'PPP1R32', 'PPP1R36', 'PPP1R3E', 'PPP2R3C', 'PPP2R5B', 'PPP2R5E', 'PPP6R3', 'PRAP1', 'PRDM11', 'PRDX5', 'PRKCDBP', 'PRKCH', 'PRKD1', 'PRMT3', 'PRMT5', 'PRMT5-AS1', 'PROSER1', 'PRPF19', 'PRPF39', 'PRR5L', 'PRRG4', 'PSMA1', 'PSMA3', 'PSMA3-AS1', 'PSMA6', 'PSMB5', 'PSMC3', 'PSMC6', 'PSMD13', 'PSME1', 'PSME2', 'PSPC1', 'PTDSS2', 'PTGDR', 'PTGER2', 'PTPMT1', 'PTPN5', 'PTPRJ', 'PWWP2B', 'PYGL', 'PYGM', 'QSER1', 'RAB15', 'RAB1B', 'RAB20', 'RAB2B', 'RAB3IL1', 'RAB6A', 'RABGGTA', 'RAD51B', 'RAD9A', 'RAG1', 'RALGAPA1', 'RAP2A', 'RAPSN', 'RASA3', 'RASGRP2', 'RASL11A', 'RASSF10', 'RASSF7', 'RB1', 'RBM14', 'RBM14-RBM4', 'RBM23', 'RBM26', 'RBM26-AS1', 'RBM4', 'RBM4B', 'RBMXL2', 'RCBTB1', 'RCBTB2', 'RCE1', 'RCN1', 'RCOR2', 'RDH11', 'REC8', 'RELA', 'RELT', 'REM2', 'RFC3', 'RFXAP', 'RGCC', 'RHOD', 'RHOG', 'RHOJ', 'RIC3', 'RIC8A', 'RIN1', 'RIPK3', 'RNASE1', 'RNASE10', 'RNASE4', 'RNASE6', 'RNASE7', 'RNASEH2B', 'RNASEH2B-AS1', 'RNASEH2C', 'RNF121', 'RNF141', 'RNF219', 'RNF219-AS1', 'RNF31', 'RNF6', 'RNH1', 'ROM1', 'RP1-239B22.5', 'RP1-65P5.5', 'RP11-102G14.1', 'RP11-1033H12.1', 'RP11-1042B17.3', 'RP11-108M12.3', 'RP11-111A21.1', 'RP11-115J23.1', 'RP11-1167A19.2', 'RP11-119D9.1', 'RP11-129M6.1', 'RP11-12G12.7', 'RP11-1391J7.1', 'RP11-140A10.3', 'RP11-141M1.1', 'RP11-142C4.6', 'RP11-151A6.6', 'RP11-152H18.3', 'RP11-156K23.3', 'RP11-167J8.3', 'RP11-168P13.1', 'RP11-169D4.2', 'RP11-172H24.4', 'RP11-176H8.1', 'RP11-187E13.1', 'RP11-189B4.7', 'RP11-195L15.2', 'RP11-203M5.2', 'RP11-211G23.2', 'RP11-218E20.3', 'RP11-219E7.2', 'RP11-21A7A.3', 'RP11-22P4.2', 'RP11-231N3.1', 'RP11-23F23.2', 'RP11-245D16.4', 'RP11-247L20.3', 'RP11-247L20.4', 'RP11-248G5.9', 'RP11-269C23.5', 'RP11-271M24.2', 'RP11-282A11.3', 'RP11-282A11.4', 'RP11-286N22.8', 'RP11-290D2.3', 'RP11-290D2.6', 'RP11-290F24.6', 'RP11-298I3.4', 'RP11-29B2.6', 'RP11-304C12.5', 'RP11-304M2.5', 'RP11-305D15.8', 'RP11-317N8.5', 'RP11-318C2.1', 'RP11-318G21.4', 'RP11-326C3.11', 'RP11-326C3.12', 'RP11-326C3.7', 'RP11-327P2.5', 'RP11-346C4.3', 'RP11-351I24.1', 'RP11-356O9.1', 'RP11-359E10.1', 'RP11-35J10.5', 'RP11-365P13.5', 'RP11-369C8.1', 'RP11-380B4.3', 'RP11-380N8.7', 'RP11-386I8.6', 'RP11-390K5.3', 'RP11-396O20.1', 'RP11-403A3.3', 'RP11-407N17.4', 'RP11-407N17.5', 'RP11-428O18.6', 'RP11-430H10.1', 'RP11-432J24.2', 'RP11-432J24.5', 'RP11-454K7.3', 'RP11-45A12.1', 'RP11-45A17.2', 'RP11-45A17.4', 'RP11-463J10.3', 'RP11-468E2.10', 'RP11-468E2.4', 'RP11-468E2.5', 'RP11-46H11.12', 'RP11-46H11.3', 'RP11-476H16.1', 'RP11-47I22.2', 'RP11-47J17.2', 'RP11-483L5.1', 'RP11-484D2.2', 'RP11-50D16.4', 'RP11-523H24.3', 'RP11-524O1.4', 'RP11-52L5.6', 'RP11-531H8.1', 'RP11-540A21.2', 'RP11-544I20.2', 'RP11-545M17.1', 'RP11-547D23.1', 'RP11-54H7.4', 'RP11-554A11.7', 'RP11-561B11.2', 'RP11-561B11.3', 'RP11-561B11.6', 'RP11-567I13.1', 'RP11-589M4.1', 'RP11-596C23.2', 'RP11-596C23.6', 'RP11-596D21.1', 'RP11-61K9.2', 'RP11-61K9.3', 'RP11-626H12.2', 'RP11-62H20.1', 'RP11-632L2.2', 'RP11-643C9.2', 'RP11-649E7.5', 'RP11-65B7.2', 'RP11-660L16.2', 'RP11-66N24.3', 'RP11-685M7.3', 'RP11-703H8.7', 'RP11-707G14.1', 'RP11-727F15.11', 'RP11-727F15.12', 'RP11-727F15.9', 'RP11-72M17.1', 'RP11-732A19.5', 'RP11-732A19.8', 'RP11-732A19.9', 'RP11-73E17.2', 'RP11-74J13.8', 'RP11-754B17.1', 'RP11-755F10.1', 'RP11-757G1.6', 'RP11-76I23.7', 'RP11-770G2.5', 'RP11-783K16.13', 'RP11-783K16.14', 'RP11-783K16.5', 'RP11-783L4.1', 'RP11-794G24.1', 'RP11-800A3.7', 'RP11-802E16.3', 'RP11-804A23.2', 'RP11-804A23.4', 'RP11-805J14.5', 'RP11-809N8.4', 'RP11-80A15.1', 'RP11-816J8.1', 'RP11-829H16.3', 'RP11-840I19.5', 'RP11-841O20.2', 'RP11-849H4.2', 'RP11-849H4.4', 'RP11-84C10.4', 'RP11-864I4.1', 'RP11-864I4.4', 'RP11-867G23.2', 'RP11-867G23.3', 'RP11-867G23.4', 'RP11-867G23.8', 'RP11-867O8.5', 'RP11-872D17.4', 'RP11-881M11.1', 'RP11-881M11.2', 'RP11-881M11.4', 'RP11-88E10.4', 'RP11-88E10.5', 'RP11-902B17.1', 'RP11-903H12.3', 'RP11-90L1.8', 'RP11-90M2.5', 'RP11-930O11.1', 'RP11-930O11.3', 'RP11-93G5.1', 'RP11-93H24.3', 'RP11-95F22.1', 'RP11-998D10.4', 'RP13-317D12.3', 'RP13-49I15.6', 'RP13-631K18.2', 'RP13-631K18.5', 'RP13-726E6.2', 'RP4-607I7.1', 'RP5-1024C24.1', 'RP5-901A4.1', 'RP5-903G2.2', 'RPGRIP1', 'RPL10L', 'RPL21', 'RPL27A', 'RPL36AL', 'RPLP2', 'RPPH1', 'RPS13', 'RPS29', 'RPS6KA4', 'RPS6KB2', 'RRAS2', 'RRM1', 'RRP8', 'RTN1', 'RTN3', 'RTN4RL2', 'SAA1', 'SAA2', 'SAAL1', 'SAC3D1', 'SACS', 'SALL2', 'SAMD4A', 'SAP18', 'SART1', 'SAV1', 'SBF2', 'SBF2-AS1', 'SCFD1', 'SCGB1A1', 'SCT', 'SCUBE2', 'SCYL1', 'SDHAF2', 'SDR39U1', 'SEC23A', 'SERGEF', 'SERP2', 'SERPING1', 'SETDB2', 'SF1', 'SF3B2', 'SGCG', 'SGPP1', 'SHANK2', 'SHISA2', 'SIAH3', 'SIGIRR', 'SIPA1', 'SIRT3', 'SIX1', 'SIX4', 'SKA3', 'SLAIN1', 'SLC15A1', 'SLC1A2', 'SLC22A10', 'SLC22A17', 'SLC22A18', 'SLC22A18AS', 'SLC25A15', 'SLC25A21', 'SLC25A21-AS1', 'SLC25A22', 'SLC25A30', 'SLC25A30-AS1', 'SLC25A45', 'SLC29A2', 'SLC35C1', 'SLC38A6', 'SLC39A13', 'SLC39A2', 'SLC3A2', 'SLC43A1', 'SLC43A3', 'SLC46A3', 'SLC5A12', 'SLC7A1', 'SLC7A7', 'SLC7A8', 'SLITRK5', 'SLITRK6', 'SMAD9', 'SMIM2-AS1', 'SMPD1', 'SMTNL1', 'SNAPC1', 'SNX15', 'SNX32', 'SNX6', 'SOCS4', 'SOHLH2', 'SOS2', 'SOX21-AS1', 'SOX6', 'SPATA13', 'SPATA13-1', 'SPG20', 'SPG20-AS1', 'SPI1', 'SPON1', 'SPRN', 'SPRY2', 'SPRYD7', 'SPTB', 'SPTBN2', 'SPTSSA', 'SPTY2D1', 'SPTY2D1-AS1', 'SRP54', 'SSH3', 'SSRP1', 'SSSCA1', 'SSTR1', 'ST5', 'STARD10', 'STARD13', 'STIM1', 'STIP1', 'STK24', 'STK24-AS1', 'STK32C', 'STK33', 'STRN3', 'STX3', 'STX5', 'STXBP6', 'STYX', 'SUCLA2', 'SUCLA2-AS1', 'SUGT1', 'SUPT16H', 'SUPT20H', 'SVIP', 'SWAP70', 'SYNE2', 'SYT12', 'SYT13', 'SYT16', 'SYT7', 'SYT9', 'SYVN1', 'TAF10', 'TAF6L', 'TALDO1', 'TBC1D10C', 'TBC1D4', 'TCIRG1', 'TCP11L1', 'TDRD3', 'TEAD1', 'TEP1', 'TEX26', 'TEX26-AS1', 'TEX29', 'TEX30', 'TEX40', 'TFDP1', 'TGDS', 'TGM1', 'TH', 'THSD1', 'THTPA', 'TIGD3', 'TIMM10', 'TIMM10B', 'TIMM9', 'TINF2', 'TKFC', 'TM7SF2', 'TM9SF1', 'TM9SF2', 'TMCO3', 'TMEM109', 'TMEM132A', 'TMEM134', 'TMEM138', 'TMEM151A', 'TMEM179B', 'TMEM216', 'TMEM223', 'TMEM229B', 'TMEM253', 'TMEM255B', 'TMEM258', 'TMEM260', 'TMEM262', 'TMEM30B', 'TMEM41B', 'TMEM55B', 'TMEM80', 'TMEM86A', 'TMEM9B', 'TMEM9B-AS1', 'TMTC4', 'TMX1', 'TMX2', 'TNFRSF19', 'TNFSF13B', 'TNKS1BP1', 'TNNI2', 'TNNT3', 'TOLLIP', 'TOLLIP-AS1', 'TOMM20L', 'TOX4', 'TP53I11', 'TPCN2', 'TPH1', 'TPP1', 'TPP2', 'TPT1', 'TPT1-AS1', 'TRAC', 'TRAF6', 'TRAPPC6B', 'TRAV13-2', 'TRAV33', 'TRIM13', 'TRIM21', 'TRIM22', 'TRIM3', 'TRIM44', 'TRIM5', 'TRIM6', 'TRIM66', 'TRIM68', 'TRIM9', 'TRMT112', 'TRMT5', 'TRPC4', 'TRPT1', 'TSC22D1', 'TSC22D1-AS1', 'TSG101', 'TSGA10IP', 'TSPAN18', 'TSPAN4', 'TSSC4', 'TSSK4', 'TTC17', 'TTC5', 'TTC6', 'TTC9C', 'TUB', 'TUBGCP2', 'TUBGCP3', 'TUT1', 'TXNDC16', 'UBAC2', 'UBAC2-AS1', 'UBE2L6', 'UBL3', 'UBQLNL', 'UBXN1', 'UCHL3', 'UCP2', 'UCP3', 'UEVLD', 'UFM1', 'UGGT2', 'UNC93B1', 'UPF3A', 'UQCC3', 'URAD', 'USP12', 'USP12-AS2', 'USP47', 'USPL1', 'UTP14C', 'VCPKMT', 'VEGFB', 'VPS36', 'VPS37C', 'VPS51', 'VTI1B', 'VWA8', 'VWA8-AS1', 'VWCE', 'WASF3', 'WASF3-AS1', 'WBP4', 'WDFY2', 'WDHD1', 'WDR74', 'WDR89', 'WEE1', 'WT1-AS', 'XPO4', 'YIF1A', 'YPEL4', 'ZAR1L', 'ZBED5', 'ZBED5-AS1', 'ZBTB1', 'ZBTB25', 'ZBTB3', 'ZC3H13', 'ZDHHC13', 'ZDHHC20', 'ZDHHC24', 'ZDHHC5', 'ZFHX2', 'ZFP36L1', 'ZFP91', 'ZFPL1', 'ZFYVE26', 'ZIC2', 'ZMYM2', 'ZMYM5', 'ZNF10', 'ZNF140', 'ZNF143', 'ZNF195', 'ZNF214', 'ZNF215', 'ZNF219', 'ZNF26', 'ZNF268', 'ZNF408', 'ZNF511', 'ZNF605', 'ZNF84', 'ZNF891', 'ZNHIT2', 'ZP1'] \n",
      "\n",
      "Genes common to all samples (0):\n",
      "No genes in common \n",
      "\n",
      "Intersection of rep1 & rep2 (0):\n",
      "No overlapping genes \n",
      "\n",
      "Intersection of rep1 & rc11 (750):\n",
      "['ABTB2', 'AC015691.13', 'AC090587.5', 'ACCS', 'ACP2', 'ADAM8', 'ADM', 'ADRBK1', 'AGBL2', 'AHNAK', 'AIP', 'AKIP1', 'ALDH3B1', 'ALKBH3', 'AMBRA1', 'AMPD3', 'ANAPC15', 'ANKRD13D', 'ANO1', 'ANO1-AS2', 'ANO5', 'AP000438.2', 'AP000442.1', 'AP000442.4', 'AP000487.5', 'AP000640.10', 'AP000769.7', 'AP001257.1', 'AP001258.4', 'AP001462.6', 'AP003068.23', 'AP003068.9', 'AP003419.16', 'AP003774.6', 'AP006285.6', 'AP006621.5', 'AP2A2', 'AP5B1', 'APBB1', 'API5', 'APIP', 'APLNR', 'ARAP1', 'ARFGAP2', 'ARFIP2', 'ARHGAP1', 'ARHGEF17', 'ARL14EP', 'ARL2', 'ARNTL', 'ART5', 'ASCL2', 'ASRGL1', 'ATG13', 'ATG16L2', 'ATG2A', 'ATHL1', 'ATL3', 'B3GAT3', 'B4GALNT4', 'B4GAT1', 'BAD', 'BANF1', 'BATF2', 'BBOX1-AS1', 'BBS1', 'BDNF', 'BDNF-AS', 'BEST1', 'BET1L', 'BNIP3', 'BRMS1', 'BRSK2', 'BSCL2', 'BTBD10', 'C10orf91', 'C11orf24', 'C11orf31', 'C11orf49', 'C11orf58', 'C11orf68', 'C11orf72', 'C11orf74', 'C11orf80', 'C11orf84', 'C11orf91', 'C11orf95', 'C11orf96', 'C11orf98', 'C1QTNF4', 'C2CD3', 'CALCA', 'CALY', 'CAPN1', 'CAPRIN1', 'CARS', 'CAT', 'CATSPER1', 'CCDC34', 'CCDC73', 'CCDC85B', 'CCDC86', 'CCDC87', 'CCDC88B', 'CCKBR', 'CCND1', 'CCS', 'CD151', 'CD248', 'CD44', 'CD59', 'CD6', 'CD81', 'CD81-AS1', 'CD82', 'CDC42BPG', 'CDC42EP2', 'CDCA5', 'CDK2AP2', 'CDKN1C', 'CELF1', 'CEND1', 'CFAP46', 'CFL1', 'CHID1', 'CHKA', 'CHRNA10', 'CHST1', 'CKAP5', 'CLCF1', 'CLP1', 'CLPB', 'CMB9-22P13.1', 'CNIH2', 'CNTF', 'COA4', 'COMMD9', 'COPB1', 'CORO1B', 'COX8A', 'CPSF7', 'CPT1A', 'CRACR2B', 'CREB3L1', 'CRY2', 'CSNK2A3', 'CSRP3', 'CST6', 'CSTF3', 'CSTF3-AS1', 'CTC-1337H24.3', 'CTC-1337H24.4', 'CTD-2371O3.2', 'CTD-2371O3.3', 'CTD-2516F10.2', 'CTD-2655K5.1', 'CTD-3074O7.5', 'CTNND1', 'CTR9', 'CTSD', 'CTSW', 'CTTN', 'CYB561A3', 'CYB5R2', 'CYP2E1', 'CYP2R1', 'DAGLA', 'DCDC1', 'DCHS1', 'DDB1', 'DDB2', 'DEAF1', 'DENND5A', 'DEPDC7', 'DGKZ', 'DHCR7', 'DKFZp779M0652', 'DKK3', 'DNAJB13', 'DNAJC24', 'DNAJC4', 'DNHD1', 'DPF2', 'DPP3', 'DPYSL4', 'DRAP1', 'DRD4', 'DTX4', 'DUSP8', 'E2F8', 'ECHS1', 'EEF1G', 'EFEMP2', 'EHBP1L1', 'EHD1', 'EIF1AD', 'EIF3F', 'EIF3M', 'EIF4G2', 'ELP4', 'EML3', 'EPS8L2', 'ESRRA', 'EXT2', 'FADD', 'FADS1', 'FADS2', 'FADS3', 'FAM111A', 'FAM111B', 'FAM160A2', 'FAM168A', 'FAM86C1', 'FAM89B', 'FAM99A', 'FANCF', 'FAR1', 'FAU', 'FBXO3', 'FCHSD2', 'FEN1', 'FERMT3', 'FGF19', 'FIBIN', 'FIBP', 'FJX1', 'FKBP2', 'FNBP4', 'FOLR1', 'FOSL1', 'FRMD8', 'FTH1', 'FUOM', 'GAL', 'GAL3ST3', 'GALNT18', 'GANAB', 'GAS2', 'GLYATL1', 'GLYATL2', 'GNG3', 'GPHA2', 'GPR137', 'GSTP1', 'GTF2H1', 'GYLTL1B', 'HARBI1', 'HBE1', 'HBG2', 'HIPK3', 'HNRNPUL2', 'HPS5', 'HPX', 'HRAS', 'HRASLS2', 'HSD17B12', 'HTATIP2', 'IFITM1', 'IFITM10', 'IFITM2', 'IFITM3', 'IGF2', 'IGF2-AS', 'IGHMBP2', 'IL18BP', 'ILK', 'IMMP1L', 'INCENP', 'INPP5A', 'INPPL1', 'INSC', 'INTS5', 'IPO7', 'IRF7', 'JAKMIP3', 'KAT5', 'KBTBD4', 'KCNA4', 'KCNE3', 'KCNK7', 'KCNQ1', 'KCNQ1-AS1', 'KCNQ1OT1', 'KDM2A', 'KIAA1549L', 'KIF18A', 'KLC2', 'KMT5B', 'KNDC1', 'KRTAP5-AS1', 'LAMTOR1', 'LBHD1', 'LDHA', 'LDHAL6A', 'LDHC', 'LDLRAD3', 'LGR4', 'LIN7C', 'LINC00294', 'LINC00958', 'LINC01001', 'LINC01537', 'LMNTD2', 'LMO1', 'LMO2', 'LPXN', 'LRFN4', 'LRP4', 'LRP4-AS1', 'LRP5', 'LRRC10B', 'LRRC27', 'LRRC4C', 'LRRC55', 'LRRC56', 'LRRN4CL', 'LRTOMT', 'LSP1', 'LTBP3', 'LUZP2', 'LYVE1', 'MACROD1', 'MADD', 'MALAT1', 'MAP3K11', 'MAP4K2', 'MAPK8IP1', 'MARK2', 'MDK', 'MED19', 'MEN1', 'METTL12', 'METTL15', 'MICAL2', 'MIR194-2HG', 'MIR210HG', 'MOB2', 'MPPED2', 'MRGPRF', 'MRPL11', 'MRPL16', 'MRPL17', 'MRPL21', 'MRPL23', 'MRPL48', 'MRPL49', 'MRVI1', 'MRVI1-AS1', 'MS4A12', 'MS4A15', 'MS4A2', 'MS4A4A', 'MS4A6A', 'MS4A7', 'MTA2', 'MTCH2', 'MTG1', 'MTL5', 'MTRNR2L8', 'MUC5B', 'MUS81', 'MYEOV', 'MYRF', 'NAA40', 'NAALADL1', 'NADSYN1', 'NAP1L4', 'NAT10', 'NAV2', 'NAV2-AS2', 'NAV2-AS3', 'NCR3LG1', 'NDUFS3', 'NDUFS8', 'NDUFV1', 'NEAT1', 'NKX6-2', 'NLRP14', 'NPAS4', 'NR1H3', 'NRIP3', 'NRXN2', 'NUCB2', 'NUDT22', 'NUDT8', 'NUMA1', 'NUP160', 'NUP98', 'NXF1', 'OLFML1', 'OR2D2', 'OR51E2', 'OR52N1', 'OR6A2', 'ORAOV1', 'OSBP', 'OSBPL5', 'OTUB1', 'OVOL1-AS1', 'P2RY2', 'P2RY6', 'P4HA3', 'PAAF1', 'PACS1', 'PACSIN3', 'PAMR1', 'PAOX', 'PARVA', 'PATL1', 'PAX6', 'PC', 'PCNXL3', 'PDDC1', 'PDE2A', 'PDE3B', 'PDHX', 'PELI3', 'PEX16', 'PGA5', 'PGAP2', 'PGM2L1', 'PHF21A', 'PHLDA2', 'PHOX2A', 'PHRF1', 'PIDD1', 'PIK3C2A', 'PITPNM1', 'PKP3', 'PLA2G16', 'PLCB3', 'PLEKHA7', 'PLEKHB1', 'PNPLA2', 'POLA2', 'POLD4', 'POLR2G', 'POLR2L', 'PPFIA1', 'PPFIBP2', 'PPME1', 'PPP1CA', 'PPP1R14B', 'PPP1R32', 'PPP2R5B', 'PPP6R3', 'PRAP1', 'PRDM11', 'PRDX5', 'PRKCDBP', 'PRMT3', 'PRPF19', 'PRR5L', 'PRRG4', 'PSMA1', 'PSMC3', 'PSMD13', 'PTDSS2', 'PTPMT1', 'PTPN5', 'PTPRJ', 'PWWP2B', 'PYGM', 'QSER1', 'RAB1B', 'RAB3IL1', 'RAB6A', 'RAD9A', 'RAG1', 'RAPSN', 'RASGRP2', 'RASSF10', 'RASSF7', 'RBM14', 'RBM14-RBM4', 'RBM4', 'RBM4B', 'RBMXL2', 'RCE1', 'RCN1', 'RCOR2', 'RELA', 'RELT', 'RHOD', 'RHOG', 'RIC3', 'RIC8A', 'RIN1', 'RNASEH2C', 'RNF121', 'RNF141', 'RNH1', 'ROM1', 'RP1-239B22.5', 'RP1-65P5.5', 'RP11-115J23.1', 'RP11-1167A19.2', 'RP11-119D9.1', 'RP11-1391J7.1', 'RP11-140A10.3', 'RP11-142C4.6', 'RP11-152H18.3', 'RP11-167J8.3', 'RP11-169D4.2', 'RP11-211G23.2', 'RP11-21A7A.3', 'RP11-22P4.2', 'RP11-231N3.1', 'RP11-23F23.2', 'RP11-286N22.8', 'RP11-290F24.6', 'RP11-304C12.5', 'RP11-304M2.5', 'RP11-318C2.1', 'RP11-326C3.11', 'RP11-326C3.12', 'RP11-326C3.7', 'RP11-351I24.1', 'RP11-359E10.1', 'RP11-35J10.5', 'RP11-390K5.3', 'RP11-396O20.1', 'RP11-430H10.1', 'RP11-432J24.2', 'RP11-432J24.5', 'RP11-45A12.1', 'RP11-45A17.2', 'RP11-45A17.4', 'RP11-47J17.2', 'RP11-483L5.1', 'RP11-484D2.2', 'RP11-531H8.1', 'RP11-540A21.2', 'RP11-554A11.7', 'RP11-567I13.1', 'RP11-626H12.2', 'RP11-643C9.2', 'RP11-660L16.2', 'RP11-685M7.3', 'RP11-703H8.7', 'RP11-707G14.1', 'RP11-727F15.11', 'RP11-727F15.12', 'RP11-727F15.9', 'RP11-732A19.5', 'RP11-732A19.8', 'RP11-732A19.9', 'RP11-754B17.1', 'RP11-755F10.1', 'RP11-757G1.6', 'RP11-76I23.7', 'RP11-770G2.5', 'RP11-783K16.13', 'RP11-783K16.14', 'RP11-783K16.5', 'RP11-794G24.1', 'RP11-800A3.7', 'RP11-802E16.3', 'RP11-804A23.2', 'RP11-804A23.4', 'RP11-805J14.5', 'RP11-809N8.4', 'RP11-849H4.2', 'RP11-849H4.4', 'RP11-864I4.1', 'RP11-864I4.4', 'RP11-867G23.2', 'RP11-867G23.3', 'RP11-867G23.4', 'RP11-867G23.8', 'RP11-867O8.5', 'RP11-872D17.4', 'RP11-881M11.1', 'RP11-881M11.2', 'RP11-881M11.4', 'RP13-317D12.3', 'RP13-49I15.6', 'RP13-631K18.2', 'RP13-631K18.5', 'RP13-726E6.2', 'RP4-607I7.1', 'RP5-1024C24.1', 'RP5-901A4.1', 'RP5-903G2.2', 'RPL27A', 'RPLP2', 'RPS13', 'RPS6KA4', 'RPS6KB2', 'RRAS2', 'RRM1', 'RRP8', 'RTN3', 'RTN4RL2', 'SAA1', 'SAA2', 'SAAL1', 'SAC3D1', 'SART1', 'SBF2', 'SBF2-AS1', 'SCGB1A1', 'SCT', 'SCUBE2', 'SCYL1', 'SDHAF2', 'SERGEF', 'SERPING1', 'SF1', 'SF3B2', 'SHANK2', 'SIGIRR', 'SIPA1', 'SIRT3', 'SLC1A2', 'SLC22A10', 'SLC22A18', 'SLC22A18AS', 'SLC25A22', 'SLC25A45', 'SLC29A2', 'SLC35C1', 'SLC39A13', 'SLC3A2', 'SLC43A1', 'SLC43A3', 'SLC5A12', 'SMPD1', 'SMTNL1', 'SNX15', 'SNX32', 'SOX6', 'SPI1', 'SPON1', 'SPRN', 'SPTBN2', 'SPTY2D1', 'SPTY2D1-AS1', 'SSH3', 'SSRP1', 'SSSCA1', 'ST5', 'STARD10', 'STIM1', 'STIP1', 'STK32C', 'STK33', 'STX3', 'STX5', 'SVIP', 'SWAP70', 'SYT12', 'SYT13', 'SYT7', 'SYT9', 'SYVN1', 'TAF10', 'TAF6L', 'TALDO1', 'TBC1D10C', 'TCIRG1', 'TCP11L1', 'TEAD1', 'TEX40', 'TH', 'TIGD3', 'TIMM10', 'TIMM10B', 'TKFC', 'TM7SF2', 'TMEM109', 'TMEM132A', 'TMEM134', 'TMEM138', 'TMEM151A', 'TMEM179B', 'TMEM216', 'TMEM223', 'TMEM258', 'TMEM262', 'TMEM41B', 'TMEM80', 'TMEM86A', 'TMEM9B', 'TMEM9B-AS1', 'TMX2', 'TNKS1BP1', 'TNNI2', 'TNNT3', 'TOLLIP', 'TOLLIP-AS1', 'TP53I11', 'TPCN2', 'TPH1', 'TPP1', 'TRAF6', 'TRIM21', 'TRIM22', 'TRIM3', 'TRIM44', 'TRIM5', 'TRIM6', 'TRIM66', 'TRIM68', 'TRMT112', 'TRPT1', 'TSG101', 'TSGA10IP', 'TSPAN18', 'TSPAN4', 'TSSC4', 'TTC17', 'TTC9C', 'TUB', 'TUBGCP2', 'TUT1', 'UBE2L6', 'UBQLNL', 'UBXN1', 'UCP2', 'UCP3', 'UEVLD', 'UNC93B1', 'UQCC3', 'USP47', 'VEGFB', 'VPS37C', 'VPS51', 'VWCE', 'WDR74', 'WEE1', 'WT1-AS', 'YIF1A', 'YPEL4', 'ZBED5', 'ZBED5-AS1', 'ZBTB3', 'ZDHHC13', 'ZDHHC24', 'ZDHHC5', 'ZFP91', 'ZFPL1', 'ZNF143', 'ZNF195', 'ZNF214', 'ZNF215', 'ZNF408', 'ZNF511', 'ZNHIT2', 'ZP1'] \n",
      "\n",
      "Intersection of rep2 & rc11 (0):\n",
      "No overlapping genes \n",
      "\n"
     ]
    }
   ],
   "source": [
    "\n",
    "\n",
    "# Sample dictionary\n",
    "samples = {\n",
    "    \"rep1\": adata_r1,\n",
    "    \"rep2\": adata_r2,\n",
    "    \"rc11\": adata_rc11\n",
    "}\n",
    "\n",
    "# Gene → bin mapping (consistent with earlier usage)\n",
    "w_size = 150\n",
    "n_bins = adata_r1.obsm[\"X_binned\"].shape[1]\n",
    "gene_bins = pd.Series(\n",
    "    np.arange(adata_r1.n_vars) // w_size,\n",
    "    index=adata_r1.var_names\n",
    ")\n",
    "\n",
    "# Count in how many cells each gene appears in a CNA region\n",
    "def get_gene_cell_counts(adata):\n",
    "    gene2cells = defaultdict(set)\n",
    "    for cell, calls in zip(adata.obs_names, adata.obs[\"cna_calls\"]):\n",
    "        for ev in calls:\n",
    "            # Support both start_bin/end_bin and start/end keys\n",
    "            b0 = ev.get(\"start_bin\", ev.get(\"start\"))\n",
    "            b1 = ev.get(\"end_bin\",   ev.get(\"end\"))\n",
    "            genes = gene_bins[(gene_bins >= b0) & (gene_bins <= b1)].index\n",
    "            for g in genes:\n",
    "                gene2cells[g].add(cell)\n",
    "    return gene2cells\n",
    "\n",
    "# Filtering threshold: must appear in at least 100 cells or ≥ 2% of cells\n",
    "min_cells = 100\n",
    "pct_of_cells = .02\n",
    "\n",
    "# Build filtered gene sets for each sample\n",
    "sample_filtered_genes = {}\n",
    "for name, ad in samples.items():\n",
    "    gene2cells = get_gene_cell_counts(ad)\n",
    "    n_cells = ad.n_obs\n",
    "    filtered = {\n",
    "        g for g, cells in gene2cells.items()\n",
    "        if (len(cells) >= min_cells and len(cells)/n_cells >= pct_of_cells)\n",
    "    }\n",
    "    sample_filtered_genes[name] = filtered\n",
    "\n",
    "# Extract individual sets\n",
    "rep1 = sample_filtered_genes[\"rep1\"]\n",
    "rep2 = sample_filtered_genes[\"rep2\"]\n",
    "rc11 = sample_filtered_genes[\"rc11\"]\n",
    "\n",
    "# 1. Union of all three\n",
    "union_all = rep1 | rep2 | rc11\n",
    "print(f\"Union of all genes ({len(union_all)}):\")\n",
    "print(sorted(union_all) if union_all else \"No genes in union\", \"\\n\")\n",
    "\n",
    "# 2. Common to all three\n",
    "common_all = rep1 & rep2 & rc11\n",
    "print(f\"Genes common to all samples ({len(common_all)}):\")\n",
    "print(sorted(common_all) if common_all else \"No genes in common\", \"\\n\")\n",
    "\n",
    "# 3. Pairwise intersections\n",
    "for a, b in itertools.combinations(samples.keys(), 2):\n",
    "    inter = sample_filtered_genes[a] & sample_filtered_genes[b]\n",
    "    print(f\"Intersection of {a} & {b} ({len(inter)}):\")\n",
    "    print(sorted(inter) if inter else \"No overlapping genes\", \"\\n\")\n"
   ]
  },
  {
   "cell_type": "code",
   "execution_count": 4,
   "id": "1777051f",
   "metadata": {},
   "outputs": [
    {
     "name": "stdout",
     "output_type": "stream",
     "text": [
      "📊 Shared genes per chromosome:\n",
      "   chromosome  gene_count\n",
      "0          11         653\n",
      "1           1           0\n",
      "22          3           0\n",
      "21          4           0\n",
      "20          5           0\n",
      "19          6           0\n",
      "18          7           0\n",
      "17          8           0\n",
      "16          9           0\n",
      "15         10           0\n",
      "\n",
      "🔥 Top 10 hotspots in 10Mb bins:\n",
      "    chromosome  bin_start_10Mb  count\n",
      "86          11      60000000.0    269\n",
      "80          11             0.0    112\n",
      "81          11      10000000.0     66\n",
      "84          11      40000000.0     57\n",
      "87          11      70000000.0     53\n",
      "83          11      30000000.0     43\n",
      "85          11      50000000.0     35\n",
      "82          11      20000000.0     18\n",
      "123         16      30000000.0      0\n",
      "124         16      40000000.0      0\n"
     ]
    },
    {
     "name": "stderr",
     "output_type": "stream",
     "text": [
      "C:\\Users\\12039\\AppData\\Local\\Temp\\ipykernel_59820\\3527432742.py:58: FutureWarning: The default of observed=False is deprecated and will be changed to True in a future version of pandas. Pass observed=False to retain current behavior or observed=True to adopt the future default and silence this warning.\n",
      "  .groupby([\"chromosome\", \"bin_start_10Mb\"])\n"
     ]
    }
   ],
   "source": [
    "# Assume adata_r1, adata_r2, adata_rc11 are already defined\n",
    "samples = {\n",
    "    \"rep1\": adata_r1,\n",
    "    \"rep2\": adata_r2,\n",
    "    \"rc11\": adata_rc11\n",
    "}\n",
    "\n",
    "# Parameters\n",
    "window_size   = 150\n",
    "min_cells     = 100\n",
    "pct_of_cells  = 0.02\n",
    "bin_window    = 10_000_000  # 10Mb\n",
    "\n",
    "# 1. Build gene → cell mapping\n",
    "def get_gene_cell_counts(adata):\n",
    "    gene2cells = defaultdict(set)\n",
    "    # Construct gene → bin mapping\n",
    "    gene_bins = pd.Series(\n",
    "        np.arange(adata.n_vars) // window_size,\n",
    "        index=adata.var_names\n",
    "    )\n",
    "    for cell, calls in zip(adata.obs_names, adata.obs[\"cna_calls\"]):\n",
    "        for ev in calls:\n",
    "            b0 = ev.get(\"start_bin\", ev.get(\"start\"))\n",
    "            b1 = ev.get(\"end_bin\",   ev.get(\"end\"))\n",
    "            genes = gene_bins[gene_bins.between(b0, b1)].index\n",
    "            for g in genes:\n",
    "                gene2cells[g].add(cell)\n",
    "    return gene2cells\n",
    "\n",
    "# 2. Filter each sample\n",
    "sample_filtered = {}\n",
    "for name, ad in samples.items():\n",
    "    gene2cells = get_gene_cell_counts(ad)\n",
    "    nc = ad.n_obs\n",
    "    kept = {\n",
    "        g for g, cells in gene2cells.items()\n",
    "        if len(cells) >= min_cells and len(cells) / nc >= pct_of_cells\n",
    "    }\n",
    "    sample_filtered[name] = kept\n",
    "\n",
    "# 3. Get shared genes between rep1 and rc11\n",
    "shared = sample_filtered[\"rep1\"] & sample_filtered[\"rc11\"]\n",
    "\n",
    "# 4. Extract gene annotation\n",
    "df_anno = adata_r1.var.loc[sorted(shared), [\"chromosome\", \"start\", \"end\"]].copy()\n",
    "\n",
    "# 5. Compute 10Mb genomic bins\n",
    "df_anno[\"bin_start_10Mb\"] = (df_anno[\"start\"] // bin_window) * bin_window\n",
    "\n",
    "# 6. Count gene frequency per chromosome\n",
    "chr_counts = df_anno[\"chromosome\"].value_counts().reset_index()\n",
    "chr_counts.columns = [\"chromosome\", \"gene_count\"]\n",
    "\n",
    "# 7. Count genes per 10Mb bin and get top 10 enriched regions\n",
    "hotspots = (\n",
    "    df_anno\n",
    "    .groupby([\"chromosome\", \"bin_start_10Mb\"])\n",
    "    .size()\n",
    "    .reset_index(name=\"count\")\n",
    ")\n",
    "top10 = hotspots.sort_values(\"count\", ascending=False).head(10)\n",
    "\n",
    "# Visualization: print summaries\n",
    "print(\"📊 Shared genes per chromosome:\")\n",
    "print(chr_counts.sort_values(\"gene_count\", ascending=False).head(10))\n",
    "\n",
    "print(\"\\n🔥 Top 10 hotspots in 10Mb bins:\")\n",
    "print(top10)\n"
   ]
  }
 ],
 "metadata": {
  "kernelspec": {
   "display_name": "base",
   "language": "python",
   "name": "python3"
  },
  "language_info": {
   "codemirror_mode": {
    "name": "ipython",
    "version": 3
   },
   "file_extension": ".py",
   "mimetype": "text/x-python",
   "name": "python",
   "nbconvert_exporter": "python",
   "pygments_lexer": "ipython3",
   "version": "3.11.10"
  }
 },
 "nbformat": 4,
 "nbformat_minor": 5
}
