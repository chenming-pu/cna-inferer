{
 "cells": [
  {
   "cell_type": "markdown",
   "id": "a6040fd3",
   "metadata": {},
   "source": [
    "# Install the package"
   ]
  },
  {
   "cell_type": "code",
   "execution_count": 1,
   "id": "ade79732",
   "metadata": {},
   "outputs": [
    {
     "name": "stdout",
     "output_type": "stream",
     "text": [
      "Collecting git+https://github.com/chenming-pu/cna-inferer.git\n",
      "  Cloning https://github.com/chenming-pu/cna-inferer.git to c:\\users\\12039\\appdata\\local\\temp\\pip-req-build-uiti_2qv\n",
      "  Resolved https://github.com/chenming-pu/cna-inferer.git to commit 1ebe21190457e6c08d4a508a8c85d7f857ff0b5a\n",
      "  Preparing metadata (setup.py): started\n",
      "  Preparing metadata (setup.py): finished with status 'done'\n",
      "Requirement already satisfied: scanpy>=1.9.0 in c:\\users\\12039\\anaconda3\\lib\\site-packages (from cna-inferer==0.1.0) (1.11.0)\n",
      "Requirement already satisfied: pandas>=1.3.0 in c:\\users\\12039\\anaconda3\\lib\\site-packages (from cna-inferer==0.1.0) (2.2.3)\n",
      "Requirement already satisfied: numpy>=1.21.0 in c:\\users\\12039\\anaconda3\\lib\\site-packages (from cna-inferer==0.1.0) (1.26.4)\n",
      "Requirement already satisfied: pyensembl>=1.1.3 in c:\\users\\12039\\anaconda3\\lib\\site-packages (from cna-inferer==0.1.0) (2.3.13)\n",
      "Requirement already satisfied: gtfparse>=1.2.1 in c:\\users\\12039\\anaconda3\\lib\\site-packages (from cna-inferer==0.1.0) (2.5.0)\n",
      "Requirement already satisfied: polars>=0.16.0 in c:\\users\\12039\\anaconda3\\lib\\site-packages (from cna-inferer==0.1.0) (0.20.31)\n",
      "Requirement already satisfied: ruptures>=1.1.6 in c:\\users\\12039\\anaconda3\\lib\\site-packages (from cna-inferer==0.1.0) (1.1.9)\n",
      "Requirement already satisfied: joblib>=1.1.0 in c:\\users\\12039\\anaconda3\\lib\\site-packages (from cna-inferer==0.1.0) (1.4.2)\n",
      "Requirement already satisfied: pyarrow<14.1.0,>=14.0.2 in c:\\users\\12039\\anaconda3\\lib\\site-packages (from gtfparse>=1.2.1->cna-inferer==0.1.0) (14.0.2)\n",
      "Requirement already satisfied: python-dateutil>=2.8.2 in c:\\users\\12039\\anaconda3\\lib\\site-packages (from pandas>=1.3.0->cna-inferer==0.1.0) (2.9.0.post0)\n",
      "Requirement already satisfied: pytz>=2020.1 in c:\\users\\12039\\anaconda3\\lib\\site-packages (from pandas>=1.3.0->cna-inferer==0.1.0) (2024.1)\n",
      "Requirement already satisfied: tzdata>=2022.7 in c:\\users\\12039\\anaconda3\\lib\\site-packages (from pandas>=1.3.0->cna-inferer==0.1.0) (2023.3)\n",
      "Requirement already satisfied: typechecks<1.0.0,>=0.0.2 in c:\\users\\12039\\anaconda3\\lib\\site-packages (from pyensembl>=1.1.3->cna-inferer==0.1.0) (0.1.0)\n",
      "Requirement already satisfied: datacache<2.0.0,>=1.4.0 in c:\\users\\12039\\anaconda3\\lib\\site-packages (from pyensembl>=1.1.3->cna-inferer==0.1.0) (1.4.1)\n",
      "Requirement already satisfied: memoized-property>=1.0.2 in c:\\users\\12039\\anaconda3\\lib\\site-packages (from pyensembl>=1.1.3->cna-inferer==0.1.0) (1.0.3)\n",
      "Requirement already satisfied: tinytimer<1.0.0,>=0.0.0 in c:\\users\\12039\\anaconda3\\lib\\site-packages (from pyensembl>=1.1.3->cna-inferer==0.1.0) (0.0.0)\n",
      "Requirement already satisfied: serializable<1.0.0,>=0.2.1 in c:\\users\\12039\\anaconda3\\lib\\site-packages (from pyensembl>=1.1.3->cna-inferer==0.1.0) (0.4.1)\n",
      "Requirement already satisfied: pylint<3.0.0,>=2.17.2 in c:\\users\\12039\\anaconda3\\lib\\site-packages (from pyensembl>=1.1.3->cna-inferer==0.1.0) (2.17.7)\n",
      "Requirement already satisfied: appdirs>=1.4.0 in c:\\users\\12039\\anaconda3\\lib\\site-packages (from datacache<2.0.0,>=1.4.0->pyensembl>=1.1.3->cna-inferer==0.1.0) (1.4.4)\n",
      "Requirement already satisfied: progressbar33>=2.4 in c:\\users\\12039\\anaconda3\\lib\\site-packages (from datacache<2.0.0,>=1.4.0->pyensembl>=1.1.3->cna-inferer==0.1.0) (2.4)\n",
      "Requirement already satisfied: requests>=2.5.1 in c:\\users\\12039\\anaconda3\\lib\\site-packages (from datacache<2.0.0,>=1.4.0->pyensembl>=1.1.3->cna-inferer==0.1.0) (2.32.3)\n",
      "Requirement already satisfied: mock in c:\\users\\12039\\anaconda3\\lib\\site-packages (from datacache<2.0.0,>=1.4.0->pyensembl>=1.1.3->cna-inferer==0.1.0) (5.2.0)\n",
      "Requirement already satisfied: platformdirs>=2.2.0 in c:\\users\\12039\\anaconda3\\lib\\site-packages (from pylint<3.0.0,>=2.17.2->pyensembl>=1.1.3->cna-inferer==0.1.0) (3.10.0)\n",
      "Requirement already satisfied: astroid<=2.17.0-dev0,>=2.15.8 in c:\\users\\12039\\anaconda3\\lib\\site-packages (from pylint<3.0.0,>=2.17.2->pyensembl>=1.1.3->cna-inferer==0.1.0) (2.15.8)\n",
      "Requirement already satisfied: isort<6,>=4.2.5 in c:\\users\\12039\\anaconda3\\lib\\site-packages (from pylint<3.0.0,>=2.17.2->pyensembl>=1.1.3->cna-inferer==0.1.0) (5.13.2)\n",
      "Requirement already satisfied: mccabe<0.8,>=0.6 in c:\\users\\12039\\anaconda3\\lib\\site-packages (from pylint<3.0.0,>=2.17.2->pyensembl>=1.1.3->cna-inferer==0.1.0) (0.7.0)\n",
      "Requirement already satisfied: tomlkit>=0.10.1 in c:\\users\\12039\\anaconda3\\lib\\site-packages (from pylint<3.0.0,>=2.17.2->pyensembl>=1.1.3->cna-inferer==0.1.0) (0.13.2)\n",
      "Requirement already satisfied: dill>=0.3.6 in c:\\users\\12039\\anaconda3\\lib\\site-packages (from pylint<3.0.0,>=2.17.2->pyensembl>=1.1.3->cna-inferer==0.1.0) (0.3.8)\n",
      "Requirement already satisfied: colorama>=0.4.5 in c:\\users\\12039\\anaconda3\\lib\\site-packages (from pylint<3.0.0,>=2.17.2->pyensembl>=1.1.3->cna-inferer==0.1.0) (0.4.6)\n",
      "Requirement already satisfied: lazy-object-proxy>=1.4.0 in c:\\users\\12039\\anaconda3\\lib\\site-packages (from astroid<=2.17.0-dev0,>=2.15.8->pylint<3.0.0,>=2.17.2->pyensembl>=1.1.3->cna-inferer==0.1.0) (1.10.0)\n",
      "Requirement already satisfied: wrapt<2,>=1.14 in c:\\users\\12039\\anaconda3\\lib\\site-packages (from astroid<=2.17.0-dev0,>=2.15.8->pylint<3.0.0,>=2.17.2->pyensembl>=1.1.3->cna-inferer==0.1.0) (1.14.1)\n",
      "Requirement already satisfied: simplejson in c:\\users\\12039\\anaconda3\\lib\\site-packages (from serializable<1.0.0,>=0.2.1->pyensembl>=1.1.3->cna-inferer==0.1.0) (3.20.1)\n",
      "Requirement already satisfied: six>=1.5 in c:\\users\\12039\\anaconda3\\lib\\site-packages (from python-dateutil>=2.8.2->pandas>=1.3.0->cna-inferer==0.1.0) (1.16.0)\n",
      "Requirement already satisfied: charset-normalizer<4,>=2 in c:\\users\\12039\\anaconda3\\lib\\site-packages (from requests>=2.5.1->datacache<2.0.0,>=1.4.0->pyensembl>=1.1.3->cna-inferer==0.1.0) (3.3.2)\n",
      "Requirement already satisfied: idna<4,>=2.5 in c:\\users\\12039\\anaconda3\\lib\\site-packages (from requests>=2.5.1->datacache<2.0.0,>=1.4.0->pyensembl>=1.1.3->cna-inferer==0.1.0) (3.7)\n",
      "Requirement already satisfied: urllib3<3,>=1.21.1 in c:\\users\\12039\\anaconda3\\lib\\site-packages (from requests>=2.5.1->datacache<2.0.0,>=1.4.0->pyensembl>=1.1.3->cna-inferer==0.1.0) (2.2.3)\n",
      "Requirement already satisfied: certifi>=2017.4.17 in c:\\users\\12039\\anaconda3\\lib\\site-packages (from requests>=2.5.1->datacache<2.0.0,>=1.4.0->pyensembl>=1.1.3->cna-inferer==0.1.0) (2024.12.14)\n",
      "Requirement already satisfied: scipy in c:\\users\\12039\\anaconda3\\lib\\site-packages (from ruptures>=1.1.6->cna-inferer==0.1.0) (1.11.4)\n",
      "Requirement already satisfied: anndata>=0.8 in c:\\users\\12039\\anaconda3\\lib\\site-packages (from scanpy>=1.9.0->cna-inferer==0.1.0) (0.11.3)\n",
      "Requirement already satisfied: h5py>=3.7 in c:\\users\\12039\\anaconda3\\lib\\site-packages (from scanpy>=1.9.0->cna-inferer==0.1.0) (3.12.1)\n",
      "Requirement already satisfied: legacy-api-wrap>=1.4 in c:\\users\\12039\\anaconda3\\lib\\site-packages (from scanpy>=1.9.0->cna-inferer==0.1.0) (1.4.1)\n",
      "Requirement already satisfied: matplotlib>=3.6 in c:\\users\\12039\\anaconda3\\lib\\site-packages (from scanpy>=1.9.0->cna-inferer==0.1.0) (3.8.4)\n",
      "Requirement already satisfied: natsort in c:\\users\\12039\\anaconda3\\lib\\site-packages (from scanpy>=1.9.0->cna-inferer==0.1.0) (8.4.0)\n",
      "Requirement already satisfied: networkx>=2.7 in c:\\users\\12039\\anaconda3\\lib\\site-packages (from scanpy>=1.9.0->cna-inferer==0.1.0) (2.8.8)\n",
      "Requirement already satisfied: numba>=0.57 in c:\\users\\12039\\anaconda3\\lib\\site-packages (from scanpy>=1.9.0->cna-inferer==0.1.0) (0.60.0)\n",
      "Requirement already satisfied: packaging>=21.3 in c:\\users\\12039\\anaconda3\\lib\\site-packages (from scanpy>=1.9.0->cna-inferer==0.1.0) (24.1)\n",
      "Requirement already satisfied: patsy!=1.0.0 in c:\\users\\12039\\anaconda3\\lib\\site-packages (from scanpy>=1.9.0->cna-inferer==0.1.0) (0.5.6)\n",
      "Requirement already satisfied: pynndescent>=0.5 in c:\\users\\12039\\anaconda3\\lib\\site-packages (from scanpy>=1.9.0->cna-inferer==0.1.0) (0.5.13)\n",
      "Requirement already satisfied: scikit-learn<1.6.0,>=1.1 in c:\\users\\12039\\anaconda3\\lib\\site-packages (from scanpy>=1.9.0->cna-inferer==0.1.0) (1.5.1)\n",
      "Requirement already satisfied: seaborn>=0.13 in c:\\users\\12039\\anaconda3\\lib\\site-packages (from scanpy>=1.9.0->cna-inferer==0.1.0) (0.13.2)\n",
      "Requirement already satisfied: session-info2 in c:\\users\\12039\\anaconda3\\lib\\site-packages (from scanpy>=1.9.0->cna-inferer==0.1.0) (0.1.2)\n",
      "Requirement already satisfied: statsmodels>=0.13 in c:\\users\\12039\\anaconda3\\lib\\site-packages (from scanpy>=1.9.0->cna-inferer==0.1.0) (0.14.2)\n",
      "Requirement already satisfied: tqdm in c:\\users\\12039\\anaconda3\\lib\\site-packages (from scanpy>=1.9.0->cna-inferer==0.1.0) (4.66.5)\n",
      "Requirement already satisfied: typing-extensions in c:\\users\\12039\\anaconda3\\lib\\site-packages (from scanpy>=1.9.0->cna-inferer==0.1.0) (4.11.0)\n",
      "Requirement already satisfied: umap-learn!=0.5.0,>=0.5 in c:\\users\\12039\\anaconda3\\lib\\site-packages (from scanpy>=1.9.0->cna-inferer==0.1.0) (0.5.7)\n",
      "Requirement already satisfied: threadpoolctl>=3.1.0 in c:\\users\\12039\\anaconda3\\lib\\site-packages (from scikit-learn<1.6.0,>=1.1->scanpy>=1.9.0->cna-inferer==0.1.0) (3.5.0)\n",
      "Requirement already satisfied: array-api-compat!=1.5,>1.4 in c:\\users\\12039\\anaconda3\\lib\\site-packages (from anndata>=0.8->scanpy>=1.9.0->cna-inferer==0.1.0) (1.10.0)\n",
      "Requirement already satisfied: contourpy>=1.0.1 in c:\\users\\12039\\anaconda3\\lib\\site-packages (from matplotlib>=3.6->scanpy>=1.9.0->cna-inferer==0.1.0) (1.2.0)\n",
      "Requirement already satisfied: cycler>=0.10 in c:\\users\\12039\\anaconda3\\lib\\site-packages (from matplotlib>=3.6->scanpy>=1.9.0->cna-inferer==0.1.0) (0.11.0)\n",
      "Requirement already satisfied: fonttools>=4.22.0 in c:\\users\\12039\\anaconda3\\lib\\site-packages (from matplotlib>=3.6->scanpy>=1.9.0->cna-inferer==0.1.0) (4.51.0)\n",
      "Requirement already satisfied: kiwisolver>=1.3.1 in c:\\users\\12039\\anaconda3\\lib\\site-packages (from matplotlib>=3.6->scanpy>=1.9.0->cna-inferer==0.1.0) (1.4.4)\n",
      "Requirement already satisfied: pillow>=8 in c:\\users\\12039\\anaconda3\\lib\\site-packages (from matplotlib>=3.6->scanpy>=1.9.0->cna-inferer==0.1.0) (10.4.0)\n",
      "Requirement already satisfied: pyparsing>=2.3.1 in c:\\users\\12039\\anaconda3\\lib\\site-packages (from matplotlib>=3.6->scanpy>=1.9.0->cna-inferer==0.1.0) (3.1.2)\n",
      "Requirement already satisfied: llvmlite<0.44,>=0.43.0dev0 in c:\\users\\12039\\anaconda3\\lib\\site-packages (from numba>=0.57->scanpy>=1.9.0->cna-inferer==0.1.0) (0.43.0)\n",
      "Building wheels for collected packages: cna-inferer\n",
      "  Building wheel for cna-inferer (setup.py): started\n",
      "  Building wheel for cna-inferer (setup.py): finished with status 'done'\n",
      "  Created wheel for cna-inferer: filename=cna_inferer-0.1.0-py3-none-any.whl size=7800 sha256=a186eb928d50241fe63abfb0065475cae0ed21d25e4e164232061af9267b3830\n",
      "  Stored in directory: C:\\Users\\12039\\AppData\\Local\\Temp\\pip-ephem-wheel-cache-lke5f9qo\\wheels\\47\\92\\dc\\b7958e21c265f61f93b71bcf639f4d302b01338d71751f9b87\n",
      "Successfully built cna-inferer\n",
      "Installing collected packages: cna-inferer\n",
      "Successfully installed cna-inferer-0.1.0\n",
      "Note: you may need to restart the kernel to use updated packages.\n"
     ]
    },
    {
     "name": "stderr",
     "output_type": "stream",
     "text": [
      "  Running command git clone --filter=blob:none --quiet https://github.com/chenming-pu/cna-inferer.git 'C:\\Users\\12039\\AppData\\Local\\Temp\\pip-req-build-uiti_2qv'\n",
      "  DEPRECATION: Building 'cna-inferer' using the legacy setup.py bdist_wheel mechanism, which will be removed in a future version. pip 25.3 will enforce this behaviour change. A possible replacement is to use the standardized build interface by setting the `--use-pep517` option, (possibly combined with `--no-build-isolation`), or adding a `pyproject.toml` file to the source tree of 'cna-inferer'. Discussion can be found at https://github.com/pypa/pip/issues/6334\n"
     ]
    }
   ],
   "source": [
    "%pip install git+https://github.com/chenming-pu/cna-inferer.git"
   ]
  },
  {
   "cell_type": "markdown",
   "id": "261fcb5a",
   "metadata": {},
   "source": [
    "# Initialization"
   ]
  },
  {
   "cell_type": "code",
   "execution_count": 2,
   "id": "bb45c6ff",
   "metadata": {},
   "outputs": [],
   "source": [
    "# Standard library\n",
    "import itertools\n",
    "from collections import defaultdict\n",
    "\n",
    "# Third-party libraries\n",
    "\n",
    "\n",
    "# Local package: cna_inferer\n",
    "from cna_inferer.main import process_and_call_cnas\n",
    "\n",
    "import urllib.request\n",
    "import gzip\n",
    "import shutil\n",
    "import os\n"
   ]
  },
  {
   "cell_type": "markdown",
   "id": "c94fd6bb",
   "metadata": {},
   "source": [
    "# Download the GFT file"
   ]
  },
  {
   "cell_type": "markdown",
   "id": "1a672761",
   "metadata": {},
   "source": [
    "The file will be download to your currnet folder - make sure it is the same one where you place your dataset and the main code (this example code)"
   ]
  },
  {
   "cell_type": "code",
   "execution_count": 3,
   "id": "5b55842c",
   "metadata": {},
   "outputs": [
    {
     "name": "stdout",
     "output_type": "stream",
     "text": [
      "Downloading GTF file...\n",
      "Download complete ✅\n",
      "Decompressing...\n",
      "Decompression complete ✅\n"
     ]
    }
   ],
   "source": [
    "\n",
    "url = \"https://ftp.ensembl.org/pub/release-104/gtf/homo_sapiens/Homo_sapiens.GRCh38.104.gtf.gz\"\n",
    "gz_file = \"Homo_sapiens.GRCh38.104.gtf.gz\"\n",
    "gtf_file = \"Homo_sapiens.GRCh38.104.gtf\"\n",
    "\n",
    "\n",
    "if not os.path.exists(gz_file):\n",
    "    print(\"Downloading GTF file...\")\n",
    "    urllib.request.urlretrieve(url, gz_file)\n",
    "    print(\"Download complete ✅\")\n",
    "else:\n",
    "    print(\"File already exists, skipping download.\")\n",
    "\n",
    "\n",
    "if not os.path.exists(gtf_file):\n",
    "    print(\"Decompressing...\")\n",
    "    with gzip.open(gz_file, 'rb') as f_in, open(gtf_file, 'wb') as f_out:\n",
    "        shutil.copyfileobj(f_in, f_out)\n",
    "    print(\"Decompression complete ✅\")\n",
    "else:\n",
    "    print(\"GTF already extracted.\")"
   ]
  },
  {
   "cell_type": "markdown",
   "id": "2f988129",
   "metadata": {},
   "source": [
    "# Load your dataset"
   ]
  },
  {
   "cell_type": "markdown",
   "id": "6740ee4d",
   "metadata": {},
   "source": [
    "Again, make sure your dataset is in the same forlder as this example code"
   ]
  },
  {
   "cell_type": "code",
   "execution_count": 5,
   "id": "b5ba7441",
   "metadata": {},
   "outputs": [
    {
     "name": "stderr",
     "output_type": "stream",
     "text": [
      "c:\\Users\\12039\\anaconda3\\Lib\\site-packages\\anndata\\_core\\anndata.py:1758: UserWarning: Variable names are not unique. To make them unique, call `.var_names_make_unique`.\n",
      "  utils.warn_names_duplicates(\"var\")\n",
      "INFO:root:Extracted GTF attributes: ['gene_id', 'gene_version', 'gene_name', 'gene_source', 'gene_biotype', 'transcript_id', 'transcript_version', 'transcript_name', 'transcript_source', 'transcript_biotype', 'tag', 'ccds_id', 'transcript_support_level', 'exon_number', 'exon_id', 'exon_version', 'protein_id', 'protein_version']\n",
      "c:\\Users\\12039\\anaconda3\\Lib\\site-packages\\scanpy\\preprocessing\\_simple.py:287: ImplicitModificationWarning: Trying to modify attribute `.var` of view, initializing view as actual.\n",
      "  adata.var[\"n_cells\"] = number\n"
     ]
    },
    {
     "name": "stdout",
     "output_type": "stream",
     "text": [
      "✅ Processed 0 cells...\n",
      "✅ Processed 500 cells...\n",
      "✅ Processed 1000 cells...\n",
      "✅ Processed 1500 cells...\n",
      "✅ Processed 2000 cells...\n",
      "✅ Processed 2500 cells...\n",
      "✅ Processed 3000 cells...\n",
      "✅ Processed 3500 cells...\n",
      "✅ Processed 4000 cells...\n",
      "✅ Processed 4500 cells...\n",
      "✅ Processed 5000 cells...\n",
      "✅ Processed 5500 cells...\n",
      "✅ Processed 6000 cells...\n",
      "📊 Total CNA events in GSM3814890_day8_rep3_filtered_gene_bc_matrices_h5.h5: 63\n",
      "Binned region info:\n",
      "  chromosome  start_gene\n",
      "0          1     89295.0\n",
      "1          1   9539465.0\n",
      "2          1  22025511.0\n",
      "3          1  32052291.0\n",
      "4          1  43172330.0\n",
      "\n",
      "Per-cell CNA events:\n",
      "                 cell  start_bin  end_bin  type chromosome  start_gene\n",
      "0  AACGTTGGTTCTGGTA-1        120      124  gain         19  47607873.0\n",
      "1  ACATACGGTCATACTG-1        120      124  gain         19  47607873.0\n",
      "2  ACATGGTAGTGGTCCC-1         70       74  gain         11    695591.0\n",
      "3  ACGCCGACACAGCGTC-1         70       74  gain         11    695591.0\n",
      "4  ACGCCGACACGCCAGT-1         70       74  gain         11    695591.0\n",
      "\n",
      "Per-cell gain/loss assignment:\n",
      "cna_calls\n",
      "[]                                              6151\n",
      "[{'start': 70, 'end': 74, 'type': 'gain'}]        51\n",
      "[{'start': 120, 'end': 124, 'type': 'gain'}]       5\n",
      "[{'start': 85, 'end': 89, 'type': 'gain'}]         5\n",
      "[{'start': 0, 'end': 4, 'type': 'gain'}]           2\n",
      "Name: count, dtype: int64\n"
     ]
    }
   ],
   "source": [
    "# === Parameters ===\n",
    "# h5_file:      Path to your input AnnData file (.h5 or .h5ad) with raw scRNA-seq counts\n",
    "# gtf_file:     Gene annotation file in GTF format (default: Homo_sapiens.GRCh38.104.gtf)\n",
    "# window_size:  Number of genes per sliding window (larger = smoother signal)\n",
    "# z_thresh:     Z-score threshold to call gain/loss events\n",
    "# min_bins:     Minimum number of consecutive bins to consider a valid CNA\n",
    "# n_bkps:       Max number of breakpoints for segmentation (if model=\"l2\")\n",
    "# model:        Segmentation model: \"l2\", \"rbf\", or other supported by ruptures\n",
    "# n_jobs:       Number of CPU cores for parallel processing\n",
    "\n",
    "# === Example Run ===\n",
    "adata = process_and_call_cnas(\n",
    "    # h5_file=\"Your dataset name\",                        # Your input dataset- only support h5 or h5ad format\n",
    "    h5_file= \"GSM3814890_day8_rep3_filtered_gene_bc_matrices_h5.h5\", # the example dataset\n",
    "    gtf_file=\"Homo_sapiens.GRCh38.104.gtf\",                 # Downloaded GTF annotation\n",
    "    window_size=150,                                       # Sliding window size\n",
    "    z_thresh=1.5,                                          # Gain/loss threshold\n",
    "    min_bins=3,                                            # Minimum CNA region size\n",
    "    n_bkps=4,                                              # Max breakpoints for segmentation\n",
    "    model=\"l2\",                                            # Segmentation model\n",
    "    n_jobs=1                                               # Use 1 CPU cores\n",
    ")\n",
    "\n",
    "# === View output ===\n",
    "print(\"Binned region info:\")\n",
    "print(adata.uns[\"bin_info\"].head())\n",
    "\n",
    "print(\"\\nPer-cell CNA events:\")\n",
    "print(adata.uns[\"cna_events\"].head())\n",
    "\n",
    "print(\"\\nPer-cell gain/loss assignment:\")\n",
    "print(adata.obs[\"cna_calls\"].value_counts())"
   ]
  }
 ],
 "metadata": {
  "kernelspec": {
   "display_name": "base",
   "language": "python",
   "name": "python3"
  },
  "language_info": {
   "codemirror_mode": {
    "name": "ipython",
    "version": 3
   },
   "file_extension": ".py",
   "mimetype": "text/x-python",
   "name": "python",
   "nbconvert_exporter": "python",
   "pygments_lexer": "ipython3",
   "version": "3.11.10"
  }
 },
 "nbformat": 4,
 "nbformat_minor": 5
}
