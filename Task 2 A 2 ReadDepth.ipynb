{
 "cells": [
  {
   "cell_type": "code",
   "execution_count": 4,
   "id": "bfaf205f",
   "metadata": {},
   "outputs": [],
   "source": [
    "# Standard libraries\n",
    "import numpy as np\n",
    "import pandas as pd\n",
    "import re\n",
    "\n",
    "# Third-party libraries\n",
    "import scanpy as sc\n",
    "import matplotlib.pyplot as plt\n",
    "from sklearn.metrics import (\n",
    "    precision_recall_curve,\n",
    "    roc_auc_score,\n",
    "    auc\n",
    ")\n",
    "\n",
    "# Local modules\n",
    "from cna_inferer.aggregation import sliding_window_aggregate\n",
    "from cna_inferer.segmentation import call_cnas\n",
    "from cna_inferer.main import process_and_call_cnas\n"
   ]
  },
  {
   "cell_type": "code",
   "execution_count": 5,
   "id": "469ec80d",
   "metadata": {},
   "outputs": [
    {
     "name": "stderr",
     "output_type": "stream",
     "text": [
      "C:\\Users\\12039\\AppData\\Local\\Temp\\ipykernel_62424\\3689238874.py:15: FutureWarning: The specified parameters ('target_sum',) are no longer positional. Please specify them like `target_sum=10000.0`\n",
      "  sc.pp.normalize_total(ad, 1e4)\n"
     ]
    },
    {
     "name": "stdout",
     "output_type": "stream",
     "text": [
      "✅ Processed 0 cells...\n",
      "✅ Processed 500 cells...\n",
      "✅ Processed 1000 cells...\n",
      "✅ Processed 1500 cells...\n",
      "✅ Processed 2000 cells...\n",
      "✅ Processed 2500 cells...\n",
      "✅ Processed 3000 cells...\n",
      "✅ Processed 3500 cells...\n",
      "✅ Processed 4000 cells...\n",
      "✅ Processed 4500 cells...\n",
      "✅ Processed 5000 cells...\n",
      "✅ Processed 5500 cells...\n",
      "✅ Processed 6000 cells...\n",
      "✅ Processed 6500 cells...\n",
      "✅ Processed 7000 cells...\n",
      "✅ Processed 7500 cells...\n",
      "✅ Processed 8000 cells...\n",
      "✅ Processed 8500 cells...\n",
      "✅ Processed 9000 cells...\n",
      "✅ Processed 9500 cells...\n",
      "✅ Processed 10000 cells...\n"
     ]
    },
    {
     "name": "stderr",
     "output_type": "stream",
     "text": [
      "C:\\Users\\12039\\AppData\\Local\\Temp\\ipykernel_62424\\3689238874.py:15: FutureWarning: The specified parameters ('target_sum',) are no longer positional. Please specify them like `target_sum=10000.0`\n",
      "  sc.pp.normalize_total(ad, 1e4)\n"
     ]
    },
    {
     "name": "stdout",
     "output_type": "stream",
     "text": [
      "✅ Processed 0 cells...\n",
      "✅ Processed 500 cells...\n",
      "✅ Processed 1000 cells...\n",
      "✅ Processed 1500 cells...\n",
      "✅ Processed 2000 cells...\n",
      "✅ Processed 2500 cells...\n",
      "✅ Processed 3000 cells...\n",
      "✅ Processed 3500 cells...\n",
      "✅ Processed 4000 cells...\n",
      "✅ Processed 4500 cells...\n",
      "✅ Processed 5000 cells...\n",
      "✅ Processed 5500 cells...\n",
      "✅ Processed 6000 cells...\n",
      "✅ Processed 6500 cells...\n",
      "✅ Processed 7000 cells...\n",
      "✅ Processed 7500 cells...\n",
      "✅ Processed 8000 cells...\n",
      "✅ Processed 8500 cells...\n",
      "✅ Processed 9000 cells...\n",
      "✅ Processed 9500 cells...\n",
      "✅ Processed 10000 cells...\n"
     ]
    },
    {
     "name": "stderr",
     "output_type": "stream",
     "text": [
      "C:\\Users\\12039\\AppData\\Local\\Temp\\ipykernel_62424\\3689238874.py:15: FutureWarning: The specified parameters ('target_sum',) are no longer positional. Please specify them like `target_sum=10000.0`\n",
      "  sc.pp.normalize_total(ad, 1e4)\n"
     ]
    },
    {
     "name": "stdout",
     "output_type": "stream",
     "text": [
      "✅ Processed 0 cells...\n",
      "✅ Processed 500 cells...\n",
      "✅ Processed 1000 cells...\n",
      "✅ Processed 1500 cells...\n",
      "✅ Processed 2000 cells...\n",
      "✅ Processed 2500 cells...\n",
      "✅ Processed 3000 cells...\n",
      "✅ Processed 3500 cells...\n",
      "✅ Processed 4000 cells...\n",
      "✅ Processed 4500 cells...\n",
      "✅ Processed 5000 cells...\n",
      "✅ Processed 5500 cells...\n",
      "✅ Processed 6000 cells...\n",
      "✅ Processed 6500 cells...\n",
      "✅ Processed 7000 cells...\n",
      "✅ Processed 7500 cells...\n",
      "✅ Processed 8000 cells...\n",
      "✅ Processed 8500 cells...\n",
      "✅ Processed 9000 cells...\n",
      "✅ Processed 9500 cells...\n",
      "✅ Processed 10000 cells...\n"
     ]
    },
    {
     "name": "stderr",
     "output_type": "stream",
     "text": [
      "C:\\Users\\12039\\AppData\\Local\\Temp\\ipykernel_62424\\3689238874.py:15: FutureWarning: The specified parameters ('target_sum',) are no longer positional. Please specify them like `target_sum=10000.0`\n",
      "  sc.pp.normalize_total(ad, 1e4)\n"
     ]
    },
    {
     "name": "stdout",
     "output_type": "stream",
     "text": [
      "✅ Processed 0 cells...\n",
      "✅ Processed 500 cells...\n",
      "✅ Processed 1000 cells...\n",
      "✅ Processed 1500 cells...\n",
      "✅ Processed 2000 cells...\n",
      "✅ Processed 2500 cells...\n",
      "✅ Processed 3000 cells...\n",
      "✅ Processed 3500 cells...\n",
      "✅ Processed 4000 cells...\n",
      "✅ Processed 4500 cells...\n",
      "✅ Processed 5000 cells...\n",
      "✅ Processed 5500 cells...\n",
      "✅ Processed 6000 cells...\n",
      "✅ Processed 6500 cells...\n",
      "✅ Processed 7000 cells...\n",
      "✅ Processed 7500 cells...\n",
      "✅ Processed 8000 cells...\n",
      "✅ Processed 8500 cells...\n",
      "✅ Processed 9000 cells...\n",
      "✅ Processed 9500 cells...\n",
      "✅ Processed 10000 cells...\n"
     ]
    },
    {
     "name": "stderr",
     "output_type": "stream",
     "text": [
      "C:\\Users\\12039\\AppData\\Local\\Temp\\ipykernel_62424\\3689238874.py:15: FutureWarning: The specified parameters ('target_sum',) are no longer positional. Please specify them like `target_sum=10000.0`\n",
      "  sc.pp.normalize_total(ad, 1e4)\n"
     ]
    },
    {
     "name": "stdout",
     "output_type": "stream",
     "text": [
      "✅ Processed 0 cells...\n",
      "✅ Processed 500 cells...\n",
      "✅ Processed 1000 cells...\n",
      "✅ Processed 1500 cells...\n",
      "✅ Processed 2000 cells...\n",
      "✅ Processed 2500 cells...\n",
      "✅ Processed 3000 cells...\n",
      "✅ Processed 3500 cells...\n",
      "✅ Processed 4000 cells...\n",
      "✅ Processed 4500 cells...\n",
      "✅ Processed 5000 cells...\n",
      "✅ Processed 5500 cells...\n",
      "✅ Processed 6000 cells...\n",
      "✅ Processed 6500 cells...\n",
      "✅ Processed 7000 cells...\n",
      "✅ Processed 7500 cells...\n",
      "✅ Processed 8000 cells...\n",
      "✅ Processed 8500 cells...\n",
      "✅ Processed 9000 cells...\n",
      "✅ Processed 9500 cells...\n",
      "✅ Processed 10000 cells...\n",
      "              AUPR     AUROC\n",
      "fraction                    \n",
      "1.00      0.001885  0.438219\n",
      "0.50      0.001918  0.456628\n",
      "0.20      0.002164  0.509583\n",
      "0.10      0.002318  0.535605\n",
      "0.05      0.002408  0.542626\n"
     ]
    },
    {
     "data": {
      "image/png": "[encoded data removed]",
      "text/plain": [
       "<Figure size 400x300 with 1 Axes>"
      ]
     },
     "metadata": {},
     "output_type": "display_data"
    }
   ],
   "source": [
    "# 1) Load and lightly QC once\n",
    "adata0 = sc.read_h5ad(\"PBMC_simulated_cnas_041025.h5ad\")\n",
    "adata0.var_names_make_unique()\n",
    "sc.pp.filter_cells(adata0, min_counts=500)\n",
    "sc.pp.filter_genes (adata0, min_cells=3)\n",
    "adata0.var[\"chromosome\"] = adata0.var[\"chromosome\"].astype(str)\n",
    "adata0 = adata0[:, adata0.var.sort_values([\"chromosome\", \"start\"]).index]\n",
    "\n",
    "# 2) Helper to run the CNA pipeline on an AnnData\n",
    "def run_cna_pipeline(ad, fraction, **cna_kwargs):\n",
    "    \"\"\" Downsample, normalize, and call CNAs directly on AnnData. \"\"\"\n",
    "    orig = ad.X.sum(1).A1.astype(int)\n",
    "    targets = np.floor(orig * fraction).astype(int)\n",
    "    sc.pp.downsample_counts(ad, counts_per_cell=targets)\n",
    "    sc.pp.normalize_total(ad, 1e4)\n",
    "    sc.pp.log1p(ad)\n",
    "    return call_cnas(ad, **cna_kwargs)\n",
    "\n",
    "# 3) Loop over depths\n",
    "fractions = [1.0, 0.5, 0.2, 0.1, 0.05]\n",
    "results = []\n",
    "for frac in fractions:\n",
    "    # copy raw @ whole depth\n",
    "    ad = adata0.copy()\n",
    "    # process & call\n",
    "    ad = run_cna_pipeline(\n",
    "        ad, frac,\n",
    "        window_size=100, z_thresh=2, min_bins=5, n_bkps=8, model=\"l2\", n_jobs=1\n",
    "    )\n",
    "    # build y_true / y_score from the original labels & z‑scores\n",
    "    # (you already have bin_info in ad.uns and ad.obs[\"cna_calls\"])\n",
    "    bin_info = ad.uns[\"bin_info\"]\n",
    "    n_cells, n_bins = ad.n_obs, bin_info.shape[0]\n",
    "\n",
    "    # ground truth\n",
    "    y_true = np.zeros((n_cells, n_bins), int)\n",
    "    for i, label in enumerate(adata0.obs[\"simulated_cnvs\"]):\n",
    "        if not isinstance(label, str):\n",
    "            continue\n",
    "\n",
    "        # split on either “;” or “,” (with optional whitespace) and skip empty parts\n",
    "        for seg in re.split(r\"[;,]\\s*\", label):\n",
    "            seg = seg.strip()\n",
    "            if not seg or \":\" not in seg:\n",
    "                # nothing to unpack or no chromosome:coords present\n",
    "                continue\n",
    "\n",
    "            # split only on the first “:”\n",
    "            chrom, rest = seg.split(\":\", 1)\n",
    "            # rest might be \"10000-20000 (CN 3)\", so take the coords before any space\n",
    "            coords = rest.split()[0]\n",
    "            start, end = map(int, coords.split(\"-\", 1))\n",
    "\n",
    "            # now apply mask as before\n",
    "            mask = (\n",
    "                (bin_info[\"chromosome\"] == chrom) &\n",
    "                (bin_info[\"start_gene\"] >= start) &\n",
    "                (bin_info[\"start_gene\"] <= end)\n",
    "            )\n",
    "            y_true[i, mask.values] = 1\n",
    "\n",
    "    # score & predict\n",
    "    Xb = ad.obsm[\"X_binned\"]\n",
    "    y_score = ((Xb - Xb.mean(1, keepdims=True)) / Xb.std(1, keepdims=True)).ravel()\n",
    "    y_true_flat = y_true.ravel()\n",
    "\n",
    "    # metrics\n",
    "    prec, rec, _ = precision_recall_curve(y_true_flat, y_score)\n",
    "    aupr = auc(rec, prec)\n",
    "    auroc = roc_auc_score(y_true_flat, y_score)\n",
    "\n",
    "    results.append({\"fraction\": frac, \"AUPR\": aupr, \"AUROC\": auroc})\n",
    "\n",
    "# 4) Summarize & plot\n",
    "df = pd.DataFrame(results).set_index(\"fraction\")\n",
    "print(df)\n",
    "\n",
    "plt.figure(figsize=(4,3))\n",
    "df.plot(marker='o', logx=True, ax=plt.gca())\n",
    "plt.xlabel(\"UMI fraction retained\")\n",
    "plt.ylabel(\"Metric\")\n",
    "plt.title(\"Impact of read depth on CNA calling\")\n",
    "plt.tight_layout()\n",
    "plt.show()\n"
   ]
  }
 ],
 "metadata": {
  "kernelspec": {
   "display_name": "py",
   "language": "python",
   "name": "python3"
  },
  "language_info": {
   "codemirror_mode": {
    "name": "ipython",
    "version": 3
   },
   "file_extension": ".py",
   "mimetype": "text/x-python",
   "name": "python",
   "nbconvert_exporter": "python",
   "pygments_lexer": "ipython3",
   "version": "3.10.15"
  }
 },
 "nbformat": 4,
 "nbformat_minor": 5
}
